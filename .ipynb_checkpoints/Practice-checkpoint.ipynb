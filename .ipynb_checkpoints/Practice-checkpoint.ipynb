{
 "cells": [
  {
   "cell_type": "code",
   "execution_count": null,
   "metadata": {},
   "outputs": [],
   "source": [
    "import math\n",
    "\n",
    "a = int(input(\"Enter number: \"))\n",
    "b = math.factorial(a)\n",
    "print(b)"
   ]
  },
  {
   "cell_type": "code",
   "execution_count": null,
   "metadata": {},
   "outputs": [],
   "source": [
    "a = int(input(\"Enter number: \"))\n",
    "b = (math.isqrt(a))\n",
    "print(b)"
   ]
  },
  {
   "cell_type": "code",
   "execution_count": null,
   "metadata": {},
   "outputs": [],
   "source": [
    "def sum(x,y,z):\n",
    "    a = x+y\n",
    "    b = y+z\n",
    "    c = a+z\n",
    "    print(a, b, c)\n",
    "sum(1,2,3)"
   ]
  },
  {
   "cell_type": "code",
   "execution_count": null,
   "metadata": {},
   "outputs": [],
   "source": [
    "i = 0\n",
    "while (i<5):\n",
    "    i+=1  \n",
    "    print(\"Total:\")\n",
    "  "
   ]
  },
  {
   "cell_type": "code",
   "execution_count": null,
   "metadata": {},
   "outputs": [],
   "source": [
    "ages = [5, 12, 17, 18, 24, 32]\n",
    "def myFunc(x):\n",
    "    if x < 18:\n",
    "        return False\n",
    "    else:\n",
    "        return True\n",
    "adults = filter(myFunc, ages)\n",
    "for x in adults:\n",
    "    print(x)"
   ]
  },
  {
   "cell_type": "code",
   "execution_count": null,
   "metadata": {},
   "outputs": [],
   "source": [
    "def name():\n",
    "    print('What is your name?')"
   ]
  },
  {
   "cell_type": "code",
   "execution_count": null,
   "metadata": {},
   "outputs": [],
   "source": [
    "def products(product_name, price, quantity):\n",
    "    \n",
    "    a = print(\"Name: \", product_name)\n",
    "    b = print(\"Price: \", price)\n",
    "    c = print(\"Quantity: \", quantity)\n",
    "    \n",
    "products(\"t-shirt\",12,1)\n"
   ]
  },
  {
   "cell_type": "code",
   "execution_count": null,
   "metadata": {},
   "outputs": [],
   "source": [
    "alpha_list = [34, 23, 67, 100, 88, 2]\n",
    "alpha_list.sort()\n",
    "alpha_list"
   ]
  },
  {
   "cell_type": "code",
   "execution_count": null,
   "metadata": {},
   "outputs": [],
   "source": [
    "age = int(input(\"Your age: \"))\n",
    "if age >= 18:\n",
    "    print(\"Your can watch adults.\")\n",
    "else:\n",
    "    print(\"You are not ellegible.\")"
   ]
  },
  {
   "cell_type": "code",
   "execution_count": null,
   "metadata": {},
   "outputs": [],
   "source": [
    "age = int(input(\"Your age: \"))\n",
    "if age>18:\n",
    "    print(\"Elligible\")\n",
    "    if age>50:\n",
    "        print(\"Too old.\")"
   ]
  },
  {
   "cell_type": "code",
   "execution_count": null,
   "metadata": {},
   "outputs": [],
   "source": [
    "age = int(input(\"age: \"))\n",
    "if age < 4:\n",
    "    ticket_price = 0;\n",
    "elif age < 18:\n",
    "    ticket_price = 10\n",
    "else:\n",
    "    ticket_price = 20\n",
    "print(\"Your ticket price is: \",ticket_price)"
   ]
  },
  {
   "cell_type": "code",
   "execution_count": null,
   "metadata": {},
   "outputs": [],
   "source": [
    "i = 1\n",
    "while i < 8:\n",
    "    print(i)\n",
    "    if i == 4:\n",
    "        break\n",
    "    i += 1"
   ]
  },
  {
   "cell_type": "code",
   "execution_count": null,
   "metadata": {},
   "outputs": [],
   "source": [
    "class car(object):\n",
    "    \"docstring\"\n",
    "    def __init__(self, color, doors, tires): \n",
    "        \"Constructor\"\n",
    "        self.color = color\n",
    "        self.doors = doors\n",
    "        self.tires = tires\n",
    "    def brake(self):\n",
    "        \"Stop the car\"\n",
    "        return \"Braking\"\n",
    "    def drive(self):\n",
    "        \"Drive the car\"\n",
    "        return \"I’m driving!\""
   ]
  },
  {
   "cell_type": "code",
   "execution_count": null,
   "metadata": {},
   "outputs": [],
   "source": [
    "class TestClass:\n",
    "    z = 5\n",
    "p1 = TestClass()\n",
    "print(p1.z)"
   ]
  },
  {
   "cell_type": "code",
   "execution_count": null,
   "metadata": {},
   "outputs": [],
   "source": [
    "#To find greatest number from three digits\n",
    "\n",
    "\n",
    "a = int(input(\"Enter the value of a = \"))\n",
    "b = int(input(\"Enter the value of b = \"))\n",
    "c = int(input(\"Enter the value of c = \"))\n",
    "\n",
    "if a>b and a>c:\n",
    "    print(a,\"is the greater than \",b,c)\n",
    "    \n",
    "elif a==b and c>a:\n",
    "    print(c,\"is greater.\")\n",
    "        \n",
    "elif a==c and b>a:\n",
    "    print(b,\"is greater.\")\n",
    "\n",
    "elif a==b and c<a:\n",
    "    print(\"Both a and b are equal and c is smaller.\")\n",
    "        \n",
    "elif a==c and b<a:\n",
    "    print(\"Both a and c are equal and b is smaller.\")\n",
    "       \n",
    "elif b>a and b>c:\n",
    "    print(b,\"is greater than \",a,c)\n",
    "    \n",
    "elif b==c and a>b:\n",
    "    print(a,\"is greater.\")\n",
    "            \n",
    "elif b==a and c>b:\n",
    "    print(c,\"is greater.\")\n",
    "\n",
    "elif b==c and a<b:\n",
    "    print(\"Both b and c are equal and a is smaller.\")\n",
    "\n",
    "elif b==a and c<b:\n",
    "    print(\"Both a and b are equal and c is smaller.\")\n",
    "    \n",
    "elif c>a and c>b:\n",
    "    print(c, \"is greater than \",a,b)\n",
    "    \n",
    "elif c==a and b>c:\n",
    "    print(b,\"is greater.\")\n",
    "        \n",
    "elif c==b and a>c:\n",
    "    print(a,\"is greater.\")\n",
    "\n",
    "elif c==a and b<c:\n",
    "    print(\"Both a and c are equal and b is smaller.\")\n",
    "\n",
    "elif c==b and a<c:\n",
    "    print(\"Both b and c are equal and a is smaller.\")\n",
    "    \n",
    "else:\n",
    "    print(\"All are equal.\")\n"
   ]
  },
  {
   "cell_type": "code",
   "execution_count": null,
   "metadata": {},
   "outputs": [],
   "source": [
    "#range(5,1)\n",
    "#for (i=5; i<1; i++)"
   ]
  },
  {
   "cell_type": "code",
   "execution_count": null,
   "metadata": {},
   "outputs": [],
   "source": [
    "b = len(a)-1\n",
    "a = [\"Apple\",\"Ball\",\"Cat\",\"Apple\",\"Apple\"]\n",
    "for i in a[b]:\n",
    "    if i == \"Apple\":\n",
    "        continue\n",
    "    else:\n",
    "        print(i)"
   ]
  },
  {
   "cell_type": "code",
   "execution_count": null,
   "metadata": {},
   "outputs": [],
   "source": [
    "for age in range(1,19):\n",
    "    print(age)"
   ]
  },
  {
   "cell_type": "code",
   "execution_count": null,
   "metadata": {},
   "outputs": [],
   "source": [
    "for number in range(20,31):\n",
    "    if number%2 == 0: \n",
    "        continue\n",
    "    else:\n",
    "        print(\"Odd numbers are: \",number)"
   ]
  },
  {
   "cell_type": "code",
   "execution_count": null,
   "metadata": {
    "scrolled": true
   },
   "outputs": [],
   "source": [
    "i= 0\n",
    "sum = 0\n",
    "items = int(input(\"input_items_in_number: \"))\n",
    "while i<items:\n",
    "    name = input(\"Product name: \")\n",
    "    product_price = int(input(\"Product price: \"))\n",
    "    product_quantity = int(input(\"Product quantity: \"))\n",
    "    total = product_price *product_quantity\n",
    "    print(\"Each total: \",total)\n",
    "    sum = sum+total\n",
    "    i = i+1\n",
    "\n",
    "print(\"Your total is\",sum)"
   ]
  },
  {
   "cell_type": "code",
   "execution_count": null,
   "metadata": {},
   "outputs": [],
   "source": [
    "for i in range(1,10):\n",
    "    print(i)"
   ]
  },
  {
   "cell_type": "code",
   "execution_count": null,
   "metadata": {},
   "outputs": [],
   "source": [
    "hot=False\n",
    "cold=True\n",
    "if hot:\n",
    "    print(\"It's a hot day.\")\n",
    "    print(\"Drink plenty of water.\")\n",
    "elif cold:\n",
    "    print(\"It's a cold day.\")\n",
    "    print(\"Wear warm clothes.\")\n",
    "else:\n",
    "    print(\"It's a lovely day.\")"
   ]
  },
  {
   "cell_type": "code",
   "execution_count": null,
   "metadata": {},
   "outputs": [],
   "source": [
    "r = int(input(\"Enter radius: \"))\n",
    "pi = 22/7\n",
    "Area = pi*(r**2)\n",
    "print(f\"Here {Area} is the area of the circle. \")"
   ]
  },
  {
   "cell_type": "code",
   "execution_count": null,
   "metadata": {},
   "outputs": [],
   "source": [
    "a = int(input(\"Enter the number: \"))\n",
    "r = int(input(\"Enter the root: \"))\n",
    "root = float(a**(1/r))\n",
    "print(f\"The {r}th root of the {a} is {root}\")"
   ]
  },
  {
   "cell_type": "code",
   "execution_count": null,
   "metadata": {},
   "outputs": [],
   "source": [
    "a = int(input(\"Enter the number: \"))\n",
    "for i in range(11):\n",
    "    mul = a*i\n",
    "    print(f\"{a} * {i} = {mul}\")"
   ]
  },
  {
   "cell_type": "code",
   "execution_count": null,
   "metadata": {},
   "outputs": [],
   "source": [
    "a = int(input(\"Enter first number: \"))\n",
    "b = int(input(\"Enter second number: \"))\n",
    "if a>b:\n",
    "    sub = a-b\n",
    "    print(sub)\n",
    "else:\n",
    "    print(\"B is greater\")"
   ]
  },
  {
   "cell_type": "code",
   "execution_count": null,
   "metadata": {},
   "outputs": [],
   "source": [
    "z = int(input(\"Enter times: \"))\n",
    "for i in range(z):\n",
    "    a = int(input(\"Enter the number: \"))\n",
    "    for n in range(1,11):\n",
    "        mul = a*n\n",
    "        print(f\"{a} * {n} = {mul}\")"
   ]
  },
  {
   "cell_type": "code",
   "execution_count": null,
   "metadata": {},
   "outputs": [],
   "source": [
    "def sum(x,y):\n",
    "\n",
    "#    age = int(input(\"age = \"))\n",
    "    s=x+y\n",
    "    print(s)\n",
    "a = int(input(\"a = \"))\n",
    "b = int(input(\"b = \"))\n",
    "sum(a,b)\n",
    "    "
   ]
  },
  {
   "cell_type": "code",
   "execution_count": null,
   "metadata": {},
   "outputs": [],
   "source": [
    "l = int(input(\"Enter l = \"))\n",
    "b = int(input(\"Enter b = \"))\n",
    "area = l*b\n",
    "print(area)"
   ]
  },
  {
   "cell_type": "code",
   "execution_count": null,
   "metadata": {},
   "outputs": [],
   "source": [
    "def area(l,b):\n",
    "    area_rec = l*b\n",
    "    print(area_rec)\n",
    "length = int(input(\"length: \"))\n",
    "breadth = int(input(\"breadth: \"))\n",
    "area(length,breadth)"
   ]
  },
  {
   "cell_type": "code",
   "execution_count": null,
   "metadata": {},
   "outputs": [],
   "source": [
    "def volume(l,b,h):\n",
    "    v = l*b*h\n",
    "    print(f\"Volume of rectangle is {v}.\")\n",
    "length = int(input(\"length = \"))\n",
    "breadth = int(input(\"breadth = \"))\n",
    "height = int(input(\"height = \"))\n",
    "volume(length,breadth,height)"
   ]
  },
  {
   "cell_type": "code",
   "execution_count": null,
   "metadata": {},
   "outputs": [],
   "source": [
    "import tkinter as tk\n",
    "from tkinter import filedialog, Text \n",
    "import os\n",
    "\n",
    "root = tk.Tk()\n",
    "\n",
    "canvas = tk.Canvas(root,height=500,width=500,bg=\"#263D42\")\n",
    "canvas.pack()\n",
    "\n",
    "frame = tk.Frame(root, bg=\"white\")\n",
    "frame.place(relwidth=0.8, relheight=0.8, relx=0.1, rely=0.1)\n",
    "\n",
    "runApps = tk.Button(root, text = \"Play Game\", padx=10, pady=5, fg=\"white\", bg = \"#263D42\",command=volume)\n",
    "runApps.pack()\n",
    "\n",
    "\n",
    "\n",
    "root.mainloop()\n"
   ]
  },
  {
   "cell_type": "code",
   "execution_count": null,
   "metadata": {},
   "outputs": [],
   "source": [
    "def hello(name):\n",
    "    print(\"Hello \"+name)\n",
    "    \n",
    "a = input(\"Enter name: \")\n",
    "hello(a)"
   ]
  },
  {
   "cell_type": "code",
   "execution_count": null,
   "metadata": {},
   "outputs": [],
   "source": [
    "def hello(name):\n",
    "    print(\"Hello \"+name)\n",
    "    return name\n",
    "a = input(\"Enter name: \")\n",
    "hello(a)"
   ]
  },
  {
   "cell_type": "code",
   "execution_count": null,
   "metadata": {},
   "outputs": [],
   "source": [
    "def shop(product,price,quantity):\n",
    "    total = price*quantity\n",
    "    return total\n",
    "\n",
    "n = int(input(\"Enter types of products: \"))\n",
    "for i in range(n):\n",
    "    pro = input(\"Enter product name: \")\n",
    "    pri = int(input(\"Enter price: \"))\n",
    "    qua = int(input(\"Enter quantity: \"))\n",
    "    \n",
    "a = shop(pro,pri,qua)\n",
    "#print(\"Total : \",shop(pro, pri, qua))\n",
    "print(a)\n",
    "shop(pro,pri,qua)\n"
   ]
  },
  {
   "cell_type": "code",
   "execution_count": null,
   "metadata": {},
   "outputs": [],
   "source": [
    "import time as t\n",
    "\n",
    "print(\"Please insert your ATM card\")\n",
    "t.sleep(2)\n",
    "\n",
    "password = 1234\n",
    "balance = 5000\n",
    "\n",
    "pas = int(input(\"Enter your password: \"))\n",
    "\n",
    "if pas == password:\n",
    "#     while True:\n",
    "    print('''\n",
    "    Press 1: To check your balance\n",
    "    Press 2: To withdraw money\n",
    "    Press 3: To deposite money\n",
    "    Press 4: To exit\n",
    "    ''')\n",
    "    \n",
    "    try:\n",
    "        option = int(input(\"Enter your choice: \"))\n",
    "    except:\n",
    "        print(\"Please enter valid number.\")\n",
    "        \n",
    "    if option==1:\n",
    "        print(f\"Your current balance is Rs {balance}.\")\n",
    "            \n",
    "    elif option==2:\n",
    "        withdraw = int(input(\"Enter amount: \"))\n",
    "        if balance>=withdraw:\n",
    "            print(f\"You have successfully withdrawn Rs {withdraw}\")\n",
    "            balance = balance-withdraw\n",
    "            print(f\"Your updated balace is Rs {balance}.\")\n",
    "        else:\n",
    "            print(\"Insufficient balance.\")\n",
    "\n",
    "    elif option==3:\n",
    "        deposite = int(input(\"Enter deposite amount: \"))\n",
    "        print(f\"You have successfully diposited Rs {deposite}.\")\n",
    "        balance = balance+deposite\n",
    "        print(f\"Your updated balance is Rs {balance}.\")\n",
    "\n",
    "    elif option==4:\n",
    "#             break\n",
    "\n",
    "#         else:\n",
    "        print(\"Invalid input\")\n",
    "        \n",
    "               \n",
    "else:\n",
    "    print(\"Incorrect password! Try again\")"
   ]
  },
  {
   "cell_type": "code",
   "execution_count": null,
   "metadata": {},
   "outputs": [],
   "source": [
    "n = int(input(\"Enter the number: \"))\n",
    "for i in range(1,11):\n",
    "    a = n*i\n",
    "    print(f\"{n} * {i} = {a}\")"
   ]
  },
  {
   "cell_type": "code",
   "execution_count": null,
   "metadata": {},
   "outputs": [],
   "source": [
    "n = int(input(\"Enter the value of n: \"))\n",
    "a = 1\n",
    "while a<=10:\n",
    "    b = n*a  \n",
    "    print(f\"{n}*{a}={b}\")\n",
    "    a = a+1"
   ]
  },
  {
   "cell_type": "code",
   "execution_count": null,
   "metadata": {},
   "outputs": [],
   "source": [
    "b = int(input(\"Enter how many: \"))\n",
    "for i in range (b):\n",
    "    n = int(input(\"Enter n: \"))\n",
    "    for i in range(1,11):\n",
    "        a = i*n\n",
    "        print(f\"{n}*{i}={a}\")"
   ]
  },
  {
   "cell_type": "code",
   "execution_count": null,
   "metadata": {},
   "outputs": [],
   "source": [
    "x = int(input(\"Enter how many times : \"))\n",
    "for z in range (x):\n",
    "    i = 1\n",
    "    n = int(input(\"Enter n: \"))\n",
    "    while i<=10:\n",
    "        a = i*n\n",
    "        print(f\"{n} * {i} = {a}\")\n",
    "        i = i+1\n",
    "    \n",
    "    "
   ]
  },
  {
   "cell_type": "code",
   "execution_count": null,
   "metadata": {},
   "outputs": [],
   "source": [
    "c = int(input(\"Enter c: \")\n",
    "def multi(a,b):\n",
    "    for i in range (c):\n",
    "        a = int(input(\"Enter a: \"))\n",
    "        b = int(input(\"Enter b: \"))\n",
    "        z = a*b\n",
    "        print(z)\n",
    "    multi(a,b)\n",
    "    \n",
    "\n",
    "\n",
    "\n",
    "\n",
    "    "
   ]
  },
  {
   "cell_type": "code",
   "execution_count": null,
   "metadata": {},
   "outputs": [],
   "source": []
  }
 ],
 "metadata": {
  "kernelspec": {
   "display_name": "Python 3",
   "language": "python",
   "name": "python3"
  },
  "language_info": {
   "codemirror_mode": {
    "name": "ipython",
    "version": 3
   },
   "file_extension": ".py",
   "mimetype": "text/x-python",
   "name": "python",
   "nbconvert_exporter": "python",
   "pygments_lexer": "ipython3",
   "version": "3.8.5"
  }
 },
 "nbformat": 4,
 "nbformat_minor": 4
}
