{
 "cells": [
  {
   "cell_type": "code",
   "execution_count": 20,
   "metadata": {},
   "outputs": [
    {
     "name": "stdout",
     "output_type": "stream",
     "text": [
      "Enter the name: Anne\n",
      "Enter the age: 12\n",
      "I am Anne and my age is 12.\n"
     ]
    }
   ],
   "source": [
    "def person_details(name,age):\n",
    "    print(f\"I am {name} and my age is {age}.\")\n",
    "    \n",
    "name = input(\"Enter the name: \")\n",
    "age = int(input(\"Enter the age: \"))\n",
    "person_details(name,age)\n"
   ]
  },
  {
   "cell_type": "code",
   "execution_count": 18,
   "metadata": {},
   "outputs": [],
   "source": [
    "class human:\n",
    "    name = \"\"\n",
    "    age = 0\n",
    "    def get_name(self):\n",
    "        print(\"Enter name: \")\n",
    "        self.name = input()\n",
    "    \n",
    "    def get_age(self):\n",
    "        print(\"Enter age: \")\n",
    "        self.age = input()\n",
    "        \n",
    "    def set_name(self):\n",
    "        self.name\n",
    "        \n",
    "    def set_age(self):\n",
    "        self.age\n",
    "        print(f\"I am {self.name} and I am {self.age}.\")"
   ]
  },
  {
   "cell_type": "code",
   "execution_count": 19,
   "metadata": {},
   "outputs": [
    {
     "name": "stdout",
     "output_type": "stream",
     "text": [
      "Enter name: \n",
      "Anne\n",
      "Enter age: \n",
      "12\n",
      "I am Anne and I am 12.\n"
     ]
    }
   ],
   "source": [
    "person1 = human()\n",
    "\n",
    "person1.get_name()\n",
    "person1.get_age()\n",
    "person1.set_name()\n",
    "person1.set_age()\n"
   ]
  },
  {
   "cell_type": "code",
   "execution_count": null,
   "metadata": {},
   "outputs": [],
   "source": []
  }
 ],
 "metadata": {
  "kernelspec": {
   "display_name": "Python 3",
   "language": "python",
   "name": "python3"
  },
  "language_info": {
   "codemirror_mode": {
    "name": "ipython",
    "version": 3
   },
   "file_extension": ".py",
   "mimetype": "text/x-python",
   "name": "python",
   "nbconvert_exporter": "python",
   "pygments_lexer": "ipython3",
   "version": "3.8.5"
  }
 },
 "nbformat": 4,
 "nbformat_minor": 4
}
