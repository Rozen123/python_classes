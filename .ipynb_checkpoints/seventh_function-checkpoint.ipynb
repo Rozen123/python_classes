{
 "cells": [
  {
   "cell_type": "code",
   "execution_count": null,
   "metadata": {},
   "outputs": [],
   "source": [
    "#function with no argument and return type\n",
    "\n"
   ]
  },
  {
   "cell_type": "code",
   "execution_count": null,
   "metadata": {},
   "outputs": [],
   "source": [
    "def hello():\n",
    "    return \"Hello World\"\n",
    "hello()\n"
   ]
  },
  {
   "cell_type": "code",
   "execution_count": null,
   "metadata": {},
   "outputs": [],
   "source": [
    "def hello():\n",
    "    return \"Hello World\"\n",
    "print(hello())\n"
   ]
  },
  {
   "cell_type": "code",
   "execution_count": null,
   "metadata": {},
   "outputs": [],
   "source": [
    "#function with no argument and return type\n",
    "def cal():\n",
    "    l = 3\n",
    "    b = 4\n",
    "    a = l*b\n",
    "    return a\n",
    "ar = cal()\n",
    "print(\"The area is\",ar)"
   ]
  },
  {
   "cell_type": "code",
   "execution_count": null,
   "metadata": {},
   "outputs": [],
   "source": [
    "#function with no argument and return type\n",
    "def cal():\n",
    "    l = 3\n",
    "    b = 4\n",
    "    a = l*b\n",
    "    return a\n",
    "\n",
    "print(\"The area is :\",cal())"
   ]
  },
  {
   "cell_type": "code",
   "execution_count": null,
   "metadata": {},
   "outputs": [],
   "source": [
    "#function with no argument and return type\n",
    "def cal():\n",
    "    l = int(input(\"Enter l: \"))\n",
    "    b = int(input(\"Enter b: \"))\n",
    "    a = l*b\n",
    "    return a\n",
    "\n",
    "print(\"The area is :\",cal())\n",
    "print(\"The volume is :\",cal()*5)"
   ]
  },
  {
   "cell_type": "code",
   "execution_count": null,
   "metadata": {},
   "outputs": [],
   "source": [
    "#function with argument and return type\n",
    "l = int(input(\"Enter l: \"))\n",
    "b = int(input(\"Enter b: \"))\n",
    "def cal(l,b):\n",
    "    a = l*b\n",
    "    return a\n",
    "\n",
    "print(\"The area is :\",cal(l,b))\n",
    "print(\"The volume is :\",cal(l,b)*5)"
   ]
  },
  {
   "cell_type": "code",
   "execution_count": null,
   "metadata": {},
   "outputs": [],
   "source": [
    "#function with argument and return type\n",
    "\n",
    "l = int(input(\"Enter l: \"))\n",
    "b = int(input(\"Enter b: \"))\n",
    "def cal(l,b):\n",
    "    a = l*b\n",
    "    return a\n",
    "ar = cal(l,b)\n",
    "print(\"The area is :\",ar)\n",
    "print(\"The volume is :\",ar*5)"
   ]
  },
  {
   "cell_type": "code",
   "execution_count": null,
   "metadata": {},
   "outputs": [],
   "source": [
    "#function with argument and return type\n",
    "\n",
    "l = int(input(\"Enter l: \"))\n",
    "b = int(input(\"Enter b: \"))\n",
    "h = int(input(\"Enter h: \"))\n",
    "def cal(l,b,h):\n",
    "    a = l*b\n",
    "    v = l*b*h\n",
    "    return a,v\n",
    "ar = cal(l,b,h)\n",
    "area,volume = ar\n",
    "print(ar)"
   ]
  },
  {
   "cell_type": "code",
   "execution_count": null,
   "metadata": {},
   "outputs": [],
   "source": [
    "#function with argument and return type\n",
    "\n",
    "l = int(input(\"Enter l: \"))\n",
    "b = int(input(\"Enter b: \"))\n",
    "h = int(input(\"Enter h: \"))\n",
    "def cal(l,b,h):\n",
    "    a = l*b\n",
    "    v = l*b*h\n",
    "    return a,v\n",
    "ar = cal(l,b,h)\n",
    "area,volume = ar\n",
    "print(\"The area is :\",area)\n",
    "print(\"The volume is :\",volume)"
   ]
  },
  {
   "cell_type": "code",
   "execution_count": null,
   "metadata": {},
   "outputs": [],
   "source": [
    "def area(l,b):\n",
    "    a=l*b\n",
    "    return a\n",
    "\n",
    "def volume(l,b,h):\n",
    "    v = area(l,b)*h\n",
    "    return v\n",
    "\n",
    "l = int(input(\"Enter l: \"))\n",
    "b = int(input(\"Enter b: \"))\n",
    "h = int(input(\"Enter h: \"))\n",
    "\n",
    "print(\"The area is : \",area(l,b))\n",
    "print(\"The volume is : \",volume(l,b,h))"
   ]
  },
  {
   "cell_type": "code",
   "execution_count": null,
   "metadata": {},
   "outputs": [],
   "source": [
    "# Recursive function\n",
    "# math function"
   ]
  },
  {
   "cell_type": "code",
   "execution_count": null,
   "metadata": {},
   "outputs": [],
   "source": [
    "#recursive function\n",
    "#always run in loop\n",
    "\n",
    "\n",
    "def hello():\n",
    "    print(\"Hello world\")\n",
    "    hello()\n",
    "\n",
    "hello()"
   ]
  },
  {
   "cell_type": "code",
   "execution_count": 24,
   "metadata": {},
   "outputs": [
    {
     "name": "stdout",
     "output_type": "stream",
     "text": [
      "Enter p: 3\n",
      "Enter t: 2\n",
      "Enter r: 1\n",
      "Interest is 6\n",
      "Enter y for more calculations: f\n"
     ]
    }
   ],
   "source": [
    "\n",
    "# use of recursion function\n",
    "# self calling of the function\n",
    "\n",
    "\n",
    "\n",
    "\n",
    "\n",
    "def cal():\n",
    "    p = int(input(\"Enter p: \"))\n",
    "    t = int(input(\"Enter t: \"))\n",
    "    r = int(input(\"Enter r: \"))\n",
    "    i = p*t*r\n",
    "    print(f\"Interest is {i}\")\n",
    "    x =input(\"Enter y for more calculations: \")\n",
    "    if x =='y':\n",
    "        cal()\n",
    "cal()"
   ]
  },
  {
   "cell_type": "code",
   "execution_count": 10,
   "metadata": {},
   "outputs": [
    {
     "data": {
      "text/plain": [
       "16.0"
      ]
     },
     "execution_count": 10,
     "metadata": {},
     "output_type": "execute_result"
    }
   ],
   "source": [
    "import math\n",
    "a = 4\n",
    "math.pow(a,2)\n",
    "    "
   ]
  },
  {
   "cell_type": "code",
   "execution_count": 15,
   "metadata": {},
   "outputs": [
    {
     "data": {
      "text/plain": [
       "6"
      ]
     },
     "execution_count": 15,
     "metadata": {},
     "output_type": "execute_result"
    }
   ],
   "source": [
    "import math as s\n",
    "a = 3\n",
    "s.factorial(a)"
   ]
  },
  {
   "cell_type": "code",
   "execution_count": 20,
   "metadata": {},
   "outputs": [
    {
     "name": "stdout",
     "output_type": "stream",
     "text": [
      "radius = 2\n",
      "12.566370614359172\n"
     ]
    }
   ],
   "source": [
    "import math as m\n",
    "r = int(input(\"radius = \"))\n",
    "a = m.pi*m.pow(r,2)\n",
    "print(a)"
   ]
  },
  {
   "cell_type": "code",
   "execution_count": 22,
   "metadata": {},
   "outputs": [
    {
     "name": "stdout",
     "output_type": "stream",
     "text": [
      "1.0\n"
     ]
    }
   ],
   "source": [
    "a = m.pi/2\n",
    "print(m.sin(a))"
   ]
  },
  {
   "cell_type": "code",
   "execution_count": null,
   "metadata": {},
   "outputs": [],
   "source": []
  }
 ],
 "metadata": {
  "kernelspec": {
   "display_name": "Python 3",
   "language": "python",
   "name": "python3"
  },
  "language_info": {
   "codemirror_mode": {
    "name": "ipython",
    "version": 3
   },
   "file_extension": ".py",
   "mimetype": "text/x-python",
   "name": "python",
   "nbconvert_exporter": "python",
   "pygments_lexer": "ipython3",
   "version": "3.8.5"
  }
 },
 "nbformat": 4,
 "nbformat_minor": 4
}
