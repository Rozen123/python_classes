{
 "cells": [
  {
   "cell_type": "code",
   "execution_count": null,
   "metadata": {},
   "outputs": [],
   "source": [
    "# function\n",
    "# pre-defined functions:  print(), typr(), input(), int(), float(), str(), etc\n",
    "\n",
    "\n",
    "\n",
    "# user-defined functions\n",
    "\n",
    "# def <function_name>():         defining function\n",
    "#     <operations>\n",
    "# <function_name>()              calling function"
   ]
  },
  {
   "cell_type": "code",
   "execution_count": 9,
   "metadata": {},
   "outputs": [
    {
     "name": "stdout",
     "output_type": "stream",
     "text": [
      "hello world\n"
     ]
    }
   ],
   "source": [
    "def hello():              #defining function\n",
    "    print(\"hello world\")\n",
    "hello()                   #calling function"
   ]
  },
  {
   "cell_type": "code",
   "execution_count": 16,
   "metadata": {},
   "outputs": [
    {
     "name": "stdout",
     "output_type": "stream",
     "text": [
      "Area is  20\n"
     ]
    }
   ],
   "source": [
    "#creating user defined function\n",
    "def area():\n",
    "    l = 10\n",
    "    b = 2\n",
    "    a = l*b\n",
    "    print(\"Area is \",a)\n",
    "area()"
   ]
  },
  {
   "cell_type": "code",
   "execution_count": 24,
   "metadata": {},
   "outputs": [
    {
     "name": "stdout",
     "output_type": "stream",
     "text": [
      "Enter l: 12\n",
      "Enter b: 1\n",
      "Area is 12\n"
     ]
    }
   ],
   "source": [
    "def area():\n",
    "    l = int(input(\"Enter l: \"))       #local variable\n",
    "    b = int(input(\"Enter b: \"))       #Local variable\n",
    "    a = l*b\n",
    "    print(\"Area is\",a)\n",
    "area()"
   ]
  },
  {
   "cell_type": "code",
   "execution_count": 28,
   "metadata": {},
   "outputs": [
    {
     "name": "stdout",
     "output_type": "stream",
     "text": [
      "Enter l: 12\n",
      "Enter b: 1\n",
      "Area is 12\n"
     ]
    }
   ],
   "source": [
    "l = int(input(\"Enter l: \"))          #global variable\n",
    "b = int(input(\"Enter b: \"))          #global variable\n",
    "def area():\n",
    "    a = l*b\n",
    "    print(\"Area is\",a)\n",
    "area()"
   ]
  },
  {
   "cell_type": "code",
   "execution_count": 30,
   "metadata": {},
   "outputs": [
    {
     "name": "stdout",
     "output_type": "stream",
     "text": [
      "Enter l: 12\n",
      "Enter b: 12\n",
      "Area is 144\n",
      "globally accessed:  144\n"
     ]
    }
   ],
   "source": [
    "l = int(input(\"Enter l: \"))          #global variable\n",
    "b = int(input(\"Enter b: \"))          #global variable\n",
    "def area():\n",
    "    global a\n",
    "    a = l*b\n",
    "    print(\"Area is\",a)\n",
    "area()\n",
    "print(\"globally accessed: \",a)"
   ]
  },
  {
   "cell_type": "code",
   "execution_count": 31,
   "metadata": {},
   "outputs": [],
   "source": [
    "# function with no argument and no return type\n",
    "# function with argument and no return type\n",
    "# function with no argument and return type\n",
    "# function with argumnet and return type"
   ]
  },
  {
   "cell_type": "code",
   "execution_count": 33,
   "metadata": {},
   "outputs": [
    {
     "name": "stdout",
     "output_type": "stream",
     "text": [
      "Enter p = 12\n",
      "Enter t = 1\n",
      "Enter r = 12\n",
      "The value of i is : 1.44\n",
      "Enter p = 2\n",
      "Enter t = 12\n",
      "Enter r = 31\n",
      "The value of i is : 7.44\n"
     ]
    }
   ],
   "source": [
    "# function with no argument and no return type\n",
    "\n",
    "def bank():\n",
    "    p = int(input(\"Enter p = \"))\n",
    "    t = float(input(\"Enter t = \"))\n",
    "    r = float(input(\"Enter r = \"))\n",
    "    \n",
    "    i = p*t*r/100\n",
    "    print(\"The value of i is :\",i)\n",
    "    \n",
    "bank()\n",
    "bank()\n",
    "#calling function two times or many is not the professional way"
   ]
  },
  {
   "cell_type": "code",
   "execution_count": 43,
   "metadata": {},
   "outputs": [
    {
     "name": "stdout",
     "output_type": "stream",
     "text": [
      "Enter n = 1\n",
      "Enter p = 2\n",
      "Enter t = 12\n",
      "Enter r = 1\n",
      "The value of i is : 0.24\n"
     ]
    }
   ],
   "source": [
    "# function with no argument and no return type\n",
    "\n",
    "def bank():\n",
    "    p = int(input(\"Enter p = \"))\n",
    "    t = float(input(\"Enter t = \"))\n",
    "    r = float(input(\"Enter r = \"))\n",
    "    \n",
    "    i = p*t*r/100\n",
    "    print(\"The value of i is :\",i)\n",
    "\n",
    "n = int(input(\"Enter n = \"))\n",
    "for i in range(n):\n",
    "#for (i=0,i<n,i++):\n",
    "    bank()\n",
    "#calling function two times or many using loop\n",
    "#the professional way"
   ]
  },
  {
   "cell_type": "code",
   "execution_count": 46,
   "metadata": {},
   "outputs": [
    {
     "name": "stdout",
     "output_type": "stream",
     "text": [
      "hello world\n"
     ]
    }
   ],
   "source": [
    "#function with argument and no return type\n",
    "\n",
    "def hello(x):\n",
    "    print(x)\n",
    "hello(\"hello world\")"
   ]
  },
  {
   "cell_type": "code",
   "execution_count": 49,
   "metadata": {},
   "outputs": [
    {
     "name": "stdout",
     "output_type": "stream",
     "text": [
      "24\n"
     ]
    }
   ],
   "source": [
    "#function with argument and no return type\n",
    "\n",
    "def area(l,b):\n",
    "    a =l*b\n",
    "    print(a)\n",
    "area(12,2)"
   ]
  },
  {
   "cell_type": "code",
   "execution_count": 51,
   "metadata": {},
   "outputs": [
    {
     "name": "stdout",
     "output_type": "stream",
     "text": [
      "Enter l: 2\n",
      "Enter b: 2\n",
      "4\n"
     ]
    }
   ],
   "source": [
    "#function with argument and no return type\n",
    "#ask value from user\n",
    "\n",
    "def area(l,b):\n",
    "    a =l*b\n",
    "    print(a)\n",
    "l = int(input(\"Enter l: \"))\n",
    "b = int(input(\"Enter b: \"))\n",
    "area(l,b)"
   ]
  },
  {
   "cell_type": "code",
   "execution_count": 52,
   "metadata": {},
   "outputs": [
    {
     "name": "stdout",
     "output_type": "stream",
     "text": [
      "Enter l: 12\n",
      "Enter b: 2\n",
      "24\n"
     ]
    }
   ],
   "source": [
    "#function with argument and no return type\n",
    "#arguments with name different\n",
    "\n",
    "def area(x,y):\n",
    "    a =x*y\n",
    "    print(a)\n",
    "l = int(input(\"Enter l: \"))\n",
    "b = int(input(\"Enter b: \"))\n",
    "area(l,b)"
   ]
  },
  {
   "cell_type": "code",
   "execution_count": 58,
   "metadata": {},
   "outputs": [
    {
     "name": "stdout",
     "output_type": "stream",
     "text": [
      "Enter l = 2\n",
      "Enter b = 7\n",
      "Enter h = 6\n",
      "14\n",
      "84\n"
     ]
    }
   ],
   "source": [
    "#function with argument and no return type\n",
    "\n",
    "def area(x,y):\n",
    "    a = x*y\n",
    "    print(a)\n",
    "    \n",
    "def volume(x,y,z):\n",
    "    v = x*y*z\n",
    "    print(v)\n",
    "\n",
    "l = int(input(\"Enter l = \"))\n",
    "b = int(input(\"Enter b = \"))\n",
    "h = int(input(\"Enter h = \"))\n",
    "\n",
    "area(l,b)\n",
    "volume(l,b,h)"
   ]
  },
  {
   "cell_type": "code",
   "execution_count": 64,
   "metadata": {},
   "outputs": [
    {
     "name": "stdout",
     "output_type": "stream",
     "text": [
      "Java\n",
      "C\n",
      "Python\n"
     ]
    }
   ],
   "source": [
    "def language(lan=\"Python\"):\n",
    "    print(lan)\n",
    "\n",
    "language(\"Java\")\n",
    "language(\"C\")\n",
    "language()"
   ]
  },
  {
   "cell_type": "code",
   "execution_count": 82,
   "metadata": {},
   "outputs": [
    {
     "name": "stdout",
     "output_type": "stream",
     "text": [
      "6\n",
      "4\n",
      "16\n",
      "2\n",
      "5\n"
     ]
    }
   ],
   "source": [
    "def area(l=2,b=1):\n",
    "    a =l*b\n",
    "    print(a)\n",
    "    \n",
    "area(2,3)\n",
    "area(4,1)\n",
    "area(4,4)\n",
    "area()\n",
    "area(5)"
   ]
  },
  {
   "cell_type": "code",
   "execution_count": 95,
   "metadata": {},
   "outputs": [
    {
     "name": "stdout",
     "output_type": "stream",
     "text": [
      "Enter a = 2\n",
      "Enter b = 3\n",
      "Enter + - * / +\n",
      "5\n"
     ]
    }
   ],
   "source": [
    "#calculator with no arguments\n",
    "\n",
    "def add(a,b):\n",
    "    print(a+b)\n",
    "    \n",
    "def sub(a,b):\n",
    "    print(a-b)\n",
    "    \n",
    "def mul(a,b):\n",
    "    print(a*b)\n",
    "    \n",
    "def div(a,b):\n",
    "    print(a/b)\n",
    "\n",
    "def calc():\n",
    "    a = int(input(\"Enter a = \"))\n",
    "    b = int(input(\"Enter b = \"))\n",
    "    o = input(\"Enter + - * / \")\n",
    "    \n",
    "    if o==\"+\":\n",
    "        add(a,b)\n",
    "        \n",
    "    elif o==\"-\":\n",
    "        sub(a,b)\n",
    "        \n",
    "    elif o==\"*\":\n",
    "        mul(a,b)\n",
    "        \n",
    "    elif o==\"/\":\n",
    "        div(a,b)\n",
    "        \n",
    "    else:\n",
    "        print(\"Invalid operator.\")\n",
    "        \n",
    "calc()\n",
    "    \n",
    "        "
   ]
  },
  {
   "cell_type": "code",
   "execution_count": 104,
   "metadata": {},
   "outputs": [
    {
     "name": "stdout",
     "output_type": "stream",
     "text": [
      "Enter n = 2\n",
      "Enter a = 3\n",
      "Enter b = 4\n",
      "Enter + - * / +\n",
      "7\n",
      "Enter a = 4\n",
      "Enter b = 2\n",
      "Enter + - * / -\n",
      "2\n"
     ]
    }
   ],
   "source": [
    "#calculator with no arguments using loop\n",
    "\n",
    "def add(a,b):\n",
    "    print(a+b)\n",
    "    \n",
    "def sub(a,b):\n",
    "    print(a-b)\n",
    "    \n",
    "def mul(a,b):\n",
    "    print(a*b)\n",
    "    \n",
    "def div(a,b):\n",
    "    print(a/b)\n",
    "\n",
    "def calc(a,b,o):\n",
    "    if o==\"+\":\n",
    "        add(a,b)\n",
    "        \n",
    "    elif o==\"-\":\n",
    "        sub(a,b)\n",
    "        \n",
    "    elif o==\"*\":\n",
    "        mul(a,b)\n",
    "        \n",
    "    elif o==\"/\":\n",
    "        div(a,b)\n",
    "        \n",
    "    else:\n",
    "        print(\"Invalid operator.\")\n",
    "        \n",
    "n = int(input(\"Enter n = \"))\n",
    "\n",
    "for i in range (n):\n",
    "    a = int(input(\"Enter a = \"))\n",
    "    b = int(input(\"Enter b = \"))\n",
    "    o = input(\"Enter + - * / \")\n",
    "    calc(a,b,o)"
   ]
  },
  {
   "cell_type": "code",
   "execution_count": 109,
   "metadata": {},
   "outputs": [
    {
     "name": "stdout",
     "output_type": "stream",
     "text": [
      "Name = Ram\n",
      "Age = 5\n",
      "Add = Ktm\n",
      "Hello I am Ram. I am from Ktm. I am 5 years old.\n"
     ]
    }
   ],
   "source": [
    "def info(y):\n",
    "    name, age, add = y\n",
    "# or   i,j,k = y\n",
    "    z = \"Hello I am \"+name+\". I am from \"+add+\". I am \"+str(age)+\" years old.\"\n",
    "    print(z)\n",
    "    \n",
    "name = input(\"Name = \")\n",
    "age = int(input(\"Age = \"))\n",
    "add = input(\"Add = \")\n",
    "y = (name,age,add)\n",
    "info(y)"
   ]
  },
  {
   "cell_type": "code",
   "execution_count": null,
   "metadata": {},
   "outputs": [],
   "source": []
  }
 ],
 "metadata": {
  "kernelspec": {
   "display_name": "Python 3",
   "language": "python",
   "name": "python3"
  },
  "language_info": {
   "codemirror_mode": {
    "name": "ipython",
    "version": 3
   },
   "file_extension": ".py",
   "mimetype": "text/x-python",
   "name": "python",
   "nbconvert_exporter": "python",
   "pygments_lexer": "ipython3",
   "version": "3.8.5"
  }
 },
 "nbformat": 4,
 "nbformat_minor": 4
}
