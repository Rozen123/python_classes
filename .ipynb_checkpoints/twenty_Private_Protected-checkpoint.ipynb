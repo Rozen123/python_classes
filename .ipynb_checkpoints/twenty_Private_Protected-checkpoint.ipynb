{
 "cells": [
  {
   "cell_type": "code",
   "execution_count": 15,
   "metadata": {},
   "outputs": [
    {
     "name": "stdout",
     "output_type": "stream",
     "text": [
      "Ram\n",
      "23\n"
     ]
    }
   ],
   "source": [
    "#protected attribute (_ single underscore)\n",
    "class Info:\n",
    "    def __init__(self,name,age):\n",
    "        self._name = name\n",
    "        self._age = age\n",
    "        \n",
    "obj = Info(\"Ram\",23)\n",
    "\n",
    "print(obj._name)\n",
    "print(obj._age)"
   ]
  },
  {
   "cell_type": "code",
   "execution_count": 16,
   "metadata": {},
   "outputs": [
    {
     "name": "stdout",
     "output_type": "stream",
     "text": [
      "Rame\n",
      "23\n"
     ]
    }
   ],
   "source": [
    "#private attrbutes (__ double underscore)\n",
    "\n",
    "class Info:\n",
    "    def __init__(self,name,age):\n",
    "        self.__name = name\n",
    "        self.__age = age\n",
    "        \n",
    "obj = Info(\"Rame\",23)\n",
    "\n",
    "print(obj._Info__name)\n",
    "print(obj._Info__age)"
   ]
  },
  {
   "cell_type": "code",
   "execution_count": 18,
   "metadata": {},
   "outputs": [
    {
     "name": "stdout",
     "output_type": "stream",
     "text": [
      "Enter name: Shyam\n",
      "Enter address: Patan\n",
      "Enter age: 33\n",
      "Shyam Patan 33\n"
     ]
    }
   ],
   "source": [
    "\n",
    "class Info:\n",
    "    def __init__(self):\n",
    "        self._add = input(\"Enter address: \")\n",
    "        self.age = input(\"Enter age: \")\n",
    "        \n",
    "class Hr():  \n",
    "    def hr(self):\n",
    "        self.name = input(\"Enter name: \")\n",
    "       \n",
    "        \n",
    "class Office(Info,Hr):\n",
    "    def __init__(self):\n",
    "        Hr.hr(self)\n",
    "        Info.__init__(self)\n",
    "            \n",
    "    def office(self):\n",
    "        print(self.name,self._add,self.age)\n",
    "        \n",
    "        \n",
    "obj = Office()\n",
    "obj.office()"
   ]
  },
  {
   "cell_type": "code",
   "execution_count": 20,
   "metadata": {},
   "outputs": [
    {
     "name": "stdout",
     "output_type": "stream",
     "text": [
      "Enter name: Binod\n",
      "Enter address: Nepal\n",
      "Enter age: 23\n",
      "Hello I am from Nepal. I am 23.\n"
     ]
    }
   ],
   "source": [
    "\n",
    "class Info:\n",
    "    def __init__(self):\n",
    "        self.__address = input(\"Enter address: \") #private attribute\n",
    "        self._age = int(input(\"Enter age: \"))     #protected attribute\n",
    "        \n",
    "    def info(self):\n",
    "        return f\"Hello I am from {self.__address}. I am {self._age}.\"\n",
    "        \n",
    "class Hr:\n",
    "    def __init__(self):\n",
    "        self.name = input(\"Enter name: \")\n",
    "       \n",
    "        \n",
    "class Office(Info,Hr):\n",
    "    def __init__(self):\n",
    "        Hr.__init__(self)\n",
    "        Info.__init__(self)\n",
    "            \n",
    "    def office(self):\n",
    "        print(super().info())\n",
    "        \n",
    "        \n",
    "obj = Office()\n",
    "obj.office()"
   ]
  },
  {
   "cell_type": "code",
   "execution_count": null,
   "metadata": {},
   "outputs": [],
   "source": []
  }
 ],
 "metadata": {
  "kernelspec": {
   "display_name": "Python 3",
   "language": "python",
   "name": "python3"
  },
  "language_info": {
   "codemirror_mode": {
    "name": "ipython",
    "version": 3
   },
   "file_extension": ".py",
   "mimetype": "text/x-python",
   "name": "python",
   "nbconvert_exporter": "python",
   "pygments_lexer": "ipython3",
   "version": "3.8.5"
  }
 },
 "nbformat": 4,
 "nbformat_minor": 4
}
