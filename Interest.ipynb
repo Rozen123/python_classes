{
 "cells": [
  {
   "cell_type": "code",
   "execution_count": 11,
   "metadata": {},
   "outputs": [
    {
     "name": "stdout",
     "output_type": "stream",
     "text": [
      "Enter the principle: 12000\n",
      "Enter the time: 1\n",
      "Enter the rate: 2\n",
      "Interest = 240\n"
     ]
    }
   ],
   "source": [
    "p = int(input(\"Enter the principle: \"))\n",
    "t = int(input(\"Enter the time: \"))\n",
    "r = int(input(\"Enter the rate: \"))\n",
    "\n",
    "i = int(p*t*r/100)\n",
    "print(f'Interest = {i}')\n",
    "      "
   ]
  },
  {
   "cell_type": "code",
   "execution_count": null,
   "metadata": {},
   "outputs": [],
   "source": []
  }
 ],
 "metadata": {
  "kernelspec": {
   "display_name": "Python 3",
   "language": "python",
   "name": "python3"
  },
  "language_info": {
   "codemirror_mode": {
    "name": "ipython",
    "version": 3
   },
   "file_extension": ".py",
   "mimetype": "text/x-python",
   "name": "python",
   "nbconvert_exporter": "python",
   "pygments_lexer": "ipython3",
   "version": "3.8.5"
  }
 },
 "nbformat": 4,
 "nbformat_minor": 4
}
