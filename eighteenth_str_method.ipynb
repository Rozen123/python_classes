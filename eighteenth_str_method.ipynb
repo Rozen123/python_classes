{
 "cells": [
  {
   "cell_type": "code",
   "execution_count": 1,
   "metadata": {},
   "outputs": [],
   "source": [
    "# __str__()   method\n",
    "# __repr__    method"
   ]
  },
  {
   "cell_type": "code",
   "execution_count": 9,
   "metadata": {},
   "outputs": [
    {
     "name": "stdout",
     "output_type": "stream",
     "text": [
      "Binod\n",
      "Binod\n",
      "Binod\n",
      "<class '__main__.Info'>\n",
      "<class 'str'>\n"
     ]
    }
   ],
   "source": [
    "class Info:\n",
    "    def __init__(self,name,age,add):\n",
    "        self.name = name\n",
    "        self.age = age\n",
    "        self.add = add\n",
    "        \n",
    "    def __str__(self):\n",
    "        return self.name\n",
    "    \n",
    "    def info(self):\n",
    "        return self.name\n",
    "    \n",
    "obj = Info(\"Binod\", 24, \"Kathmandu\")\n",
    "\n",
    "print(obj)\n",
    "print(obj.__str__())\n",
    "print(str(obj))\n",
    "print(type(obj))\n",
    "\n",
    "x = obj.info()\n",
    "print(type(x))"
   ]
  },
  {
   "cell_type": "code",
   "execution_count": 10,
   "metadata": {},
   "outputs": [
    {
     "name": "stdout",
     "output_type": "stream",
     "text": [
      "Binod\n",
      "BinodBinod\n"
     ]
    }
   ],
   "source": [
    "class Info:\n",
    "    def __init__(self,name,age,add):\n",
    "        self.name = name\n",
    "        self.age = age\n",
    "        self.add = add\n",
    "        \n",
    "    def __str__(self):\n",
    "        return self.name\n",
    "    \n",
    "    def info(self):\n",
    "        return self.name\n",
    "    \n",
    "obj = Info(\"Binod\", 24, \"Kathmandu\")\n",
    "\n",
    "print(obj)\n",
    "x = obj.info()\n",
    "print(str(obj)+x)"
   ]
  },
  {
   "cell_type": "code",
   "execution_count": 12,
   "metadata": {},
   "outputs": [
    {
     "name": "stdout",
     "output_type": "stream",
     "text": [
      "Sita Binod\n"
     ]
    }
   ],
   "source": [
    "class Info:\n",
    "    def __init__(self,name,age,add):\n",
    "        self.name = name\n",
    "        self.age = age\n",
    "        self.add = add\n",
    "        \n",
    "    def __str__(self):\n",
    "        return self.name\n",
    "\n",
    "    \n",
    "obj = Info(\"Binod\", 24, \"Kathmandu\")\n",
    "obj1 = Info(\"Sita\", 24, \"Kathmandu\")\n",
    "\n",
    "print(obj1,obj)"
   ]
  },
  {
   "cell_type": "code",
   "execution_count": 14,
   "metadata": {},
   "outputs": [
    {
     "name": "stdout",
     "output_type": "stream",
     "text": [
      "Binod\n"
     ]
    }
   ],
   "source": [
    "class Info:\n",
    "    def __init__(self,name,age,add):\n",
    "        self.name = name\n",
    "        self.age = age\n",
    "        self.add = add\n",
    "\n",
    "    \n",
    "    def __repr__(self):\n",
    "        return self.name\n",
    "    \n",
    "#     def info(self):\n",
    "#         return self.name\n",
    "    \n",
    "obj = Info(\"Binod\", 24, \"Kathmandu\")\n",
    "\n",
    "print(obj.__repr__())\n"
   ]
  },
  {
   "cell_type": "code",
   "execution_count": 22,
   "metadata": {},
   "outputs": [
    {
     "name": "stdout",
     "output_type": "stream",
     "text": [
      "['Binod', 24, 'Kathmandu']\n",
      "<class 'list'>\n"
     ]
    }
   ],
   "source": [
    "class Info:\n",
    "    def __init__(self,name,age,add):\n",
    "        self.name = name\n",
    "        self.age = age\n",
    "        self.add = add\n",
    "\n",
    "    \n",
    "    def __repr__(self):\n",
    "        return [self.name,self.age,self.add]\n",
    "    \n",
    "#     def info(self):\n",
    "#         return self.name\n",
    "    \n",
    "obj = Info(\"Binod\", 24, \"Kathmandu\")\n",
    "\n",
    "x = obj.__repr__()\n",
    "print(x)\n",
    "print(type(x))"
   ]
  },
  {
   "cell_type": "code",
   "execution_count": 3,
   "metadata": {},
   "outputs": [
    {
     "name": "stdout",
     "output_type": "stream",
     "text": [
      "100\n",
      "300\n",
      "200\n",
      "400\n",
      "600\n",
      "600\n"
     ]
    }
   ],
   "source": [
    "# Operator overloading\n",
    "\n",
    "class Point:\n",
    "    def __init__(self,x):\n",
    "        self.x = x\n",
    "        print(self.x)\n",
    "        \n",
    "    def __str__(self):\n",
    "        return f\"{self.x}\"\n",
    "    \n",
    "    def __add__(self,other):\n",
    "        x = self.x + other.x\n",
    "        return Point(x)\n",
    "    \n",
    "p1 = Point(100)\n",
    "p2 = Point(300)\n",
    "p3 = Point(200)\n",
    "print(p1+p2+p3)"
   ]
  },
  {
   "cell_type": "code",
   "execution_count": 2,
   "metadata": {},
   "outputs": [
    {
     "name": "stdout",
     "output_type": "stream",
     "text": [
      "This is init method 100\n",
      "This is init method 200\n",
      "This is init method 300\n",
      "This is add method 300\n",
      "This is init method 300\n",
      "This is add method 600\n",
      "This is init method 600\n",
      "This is str method 600\n",
      "600\n"
     ]
    }
   ],
   "source": [
    "# Operator overloading\n",
    "\n",
    "class Point:\n",
    "    def __init__(self,x):\n",
    "        self.x = x\n",
    "        print(\"This is init method\",self.x)\n",
    "        \n",
    "    def __str__(self):\n",
    "        print(\"This is str method\",self.x)\n",
    "        return f\"{self.x}\"\n",
    "        \n",
    "    def __add__(self,other):\n",
    "        x = self.x + other.x\n",
    "        print(\"This is add method\",x)\n",
    "        return Point(x)\n",
    "    \n",
    "p1 = Point(100)\n",
    "p2 = Point(200)\n",
    "p3 = Point(300)\n",
    "print(p1+p2+p3)"
   ]
  },
  {
   "cell_type": "code",
   "execution_count": 8,
   "metadata": {},
   "outputs": [
    {
     "name": "stdout",
     "output_type": "stream",
     "text": [
      "Enter a = 5\n",
      "Enter b = 2\n",
      "Enter operator = -\n",
      "3\n"
     ]
    }
   ],
   "source": [
    "class Point:\n",
    "    def __init__(self,x):\n",
    "        self.x = x\n",
    "        \n",
    "    def __str__(self):\n",
    "        return f\"{self.x}\"\n",
    "        \n",
    "    def __add__(self,other):\n",
    "        x = self.x + other.x\n",
    "        return Point(x)\n",
    "    \n",
    "    def __sub__(self,other):\n",
    "        x = self.x - other.x\n",
    "        return Point(x)\n",
    "\n",
    "    \n",
    "a = int(input(\"Enter a = \")) \n",
    "b = int(input(\"Enter b = \")) \n",
    "o = input(\"Enter operator = \")\n",
    "\n",
    "p1 = Point(a)\n",
    "p2 = Point(b)\n",
    "\n",
    "if o == \"+\":\n",
    "    print(p1+p2)\n",
    "elif o == \"-\":\n",
    "    print(p1-p2)"
   ]
  },
  {
   "cell_type": "code",
   "execution_count": null,
   "metadata": {},
   "outputs": [],
   "source": []
  },
  {
   "cell_type": "code",
   "execution_count": null,
   "metadata": {},
   "outputs": [],
   "source": []
  },
  {
   "cell_type": "code",
   "execution_count": null,
   "metadata": {},
   "outputs": [],
   "source": []
  }
 ],
 "metadata": {
  "kernelspec": {
   "display_name": "Python 3",
   "language": "python",
   "name": "python3"
  },
  "language_info": {
   "codemirror_mode": {
    "name": "ipython",
    "version": 3
   },
   "file_extension": ".py",
   "mimetype": "text/x-python",
   "name": "python",
   "nbconvert_exporter": "python",
   "pygments_lexer": "ipython3",
   "version": "3.8.5"
  }
 },
 "nbformat": 4,
 "nbformat_minor": 4
}
