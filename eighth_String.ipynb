{
 "cells": [
  {
   "cell_type": "code",
   "execution_count": null,
   "metadata": {},
   "outputs": [],
   "source": [
    "#String"
   ]
  },
  {
   "cell_type": "code",
   "execution_count": 35,
   "metadata": {},
   "outputs": [
    {
     "name": "stdout",
     "output_type": "stream",
     "text": [
      "<class 'str'> <class 'str'>\n"
     ]
    }
   ],
   "source": [
    "a = \"Hello\"\n",
    "b = \"Hello\"\n",
    "print(type(a),type(b))"
   ]
  },
  {
   "cell_type": "code",
   "execution_count": 34,
   "metadata": {},
   "outputs": [
    {
     "name": "stdout",
     "output_type": "stream",
     "text": [
      "HelloWorld\n"
     ]
    }
   ],
   "source": [
    "a = \"Hello\"\n",
    "b = \"World\"\n",
    "print(a+b)"
   ]
  },
  {
   "cell_type": "code",
   "execution_count": null,
   "metadata": {},
   "outputs": [],
   "source": [
    "#also look use of \\n\n",
    "\n",
    "a = \"Hello\\n\"\n",
    "print(a*5)"
   ]
  },
  {
   "cell_type": "code",
   "execution_count": null,
   "metadata": {},
   "outputs": [],
   "source": [
    "a = input(\"Enter name: \")\n",
    "print(type(a))\n",
    "print(a)"
   ]
  },
  {
   "cell_type": "code",
   "execution_count": null,
   "metadata": {},
   "outputs": [],
   "source": [
    "a = \"python\"\n",
    "for i in a:\n",
    "    print (i)"
   ]
  },
  {
   "cell_type": "code",
   "execution_count": null,
   "metadata": {},
   "outputs": [],
   "source": [
    "a = \"python\"\n",
    "for i in a:\n",
    "    print (i,end = \"\")"
   ]
  },
  {
   "cell_type": "code",
   "execution_count": null,
   "metadata": {},
   "outputs": [],
   "source": [
    "a = \"python\"\n",
    "for i in a:\n",
    "    print (i,end = \" \")"
   ]
  },
  {
   "cell_type": "code",
   "execution_count": null,
   "metadata": {},
   "outputs": [],
   "source": [
    "a = \"Hello World\"\n",
    "print(a[1])"
   ]
  },
  {
   "cell_type": "code",
   "execution_count": null,
   "metadata": {},
   "outputs": [],
   "source": [
    "a = \"Hello World\"\n",
    "print(a[0:5])"
   ]
  },
  {
   "cell_type": "code",
   "execution_count": null,
   "metadata": {},
   "outputs": [],
   "source": [
    "a = \"Hello World\"\n",
    "print(a[0:10:2])"
   ]
  },
  {
   "cell_type": "code",
   "execution_count": null,
   "metadata": {},
   "outputs": [],
   "source": [
    "a = \"Hello World\"\n",
    "n = len(a)\n",
    "print(a[n-1::-1])"
   ]
  },
  {
   "cell_type": "code",
   "execution_count": null,
   "metadata": {},
   "outputs": [],
   "source": [
    "#string formatting\n",
    "\n",
    "name = input(\"Enter name: \")\n",
    "age = int(input(\"Enter age: \"))\n",
    "address = input(\"Enter address: \")\n",
    "info = f\"Hello I am {name}. My age is {age} and I am from {address}.\"\n",
    "print(info)"
   ]
  },
  {
   "cell_type": "code",
   "execution_count": 3,
   "metadata": {},
   "outputs": [
    {
     "name": "stdout",
     "output_type": "stream",
     "text": [
      "Enter number of students: 2\n",
      "Enter name: s\n",
      "Enter age: 2\n",
      "Enter address: f\n",
      "Enter name: ee\n",
      "Enter age: 33\n",
      "Enter address: f\n",
      "Hello I am s. My age is 2 and I am from f.\n",
      "Hello I am ee. My age is 33 and I am from f.\n",
      "\n"
     ]
    }
   ],
   "source": [
    "data = \"\"\n",
    "n = int(input(\"Enter number of students: \"))\n",
    "for i in range(n):\n",
    "    name = input(\"Enter name: \")\n",
    "    age = int(input(\"Enter age: \"))\n",
    "    address = input(\"Enter address: \")\n",
    "\n",
    "    info = f\"Hello I am {name}. My age is {age} and I am from {address}.\\n\"\n",
    "    data = data + info\n",
    "print(data)"
   ]
  },
  {
   "cell_type": "code",
   "execution_count": null,
   "metadata": {},
   "outputs": [],
   "source": [
    "a = \"Ram Shyam Hari  Shyam Nita\"\n",
    "if \"Ram\" in a:\n",
    "    print(\"Yes\")\n",
    "else:\n",
    "    print(\"No\")"
   ]
  },
  {
   "cell_type": "code",
   "execution_count": 2,
   "metadata": {},
   "outputs": [
    {
     "name": "stdout",
     "output_type": "stream",
     "text": [
      "Name: Ram\n",
      "Yes. There is 2 Ram.\n"
     ]
    }
   ],
   "source": [
    "a = \"Ram Shyam Ram Hari hari\"\n",
    "name = input(\"Name: \")\n",
    "if name in a:\n",
    "    c = a.count(name)\n",
    "    print(f\"Yes. There is {c} {name}.\")\n",
    "else:\n",
    "    print(\"No\")"
   ]
  },
  {
   "cell_type": "code",
   "execution_count": 3,
   "metadata": {},
   "outputs": [
    {
     "name": "stdout",
     "output_type": "stream",
     "text": [
      "RAM\n",
      "ram\n"
     ]
    }
   ],
   "source": [
    "a = \"Ram\"\n",
    "print(a.upper())\n",
    "print(a.lower())"
   ]
  },
  {
   "cell_type": "code",
   "execution_count": 4,
   "metadata": {},
   "outputs": [
    {
     "name": "stdout",
     "output_type": "stream",
     "text": [
      "Name: ram\n",
      "RAM\n"
     ]
    }
   ],
   "source": [
    "name = input(\"Name: \").upper()\n",
    "print(name)"
   ]
  },
  {
   "cell_type": "code",
   "execution_count": 5,
   "metadata": {},
   "outputs": [
    {
     "name": "stdout",
     "output_type": "stream",
     "text": [
      "Name: hari\n",
      "Yes. There is 2 hari.\n"
     ]
    }
   ],
   "source": [
    "a = \"Ram Shyam Ram Hari hari\".lower()\n",
    "name = input(\"Name: \").lower()\n",
    "if name in a:\n",
    "    c = a.count(name)\n",
    "    print(f\"Yes. There is {c} {name}.\")\n",
    "else:\n",
    "    print(\"No\")"
   ]
  },
  {
   "cell_type": "code",
   "execution_count": 6,
   "metadata": {},
   "outputs": [
    {
     "name": "stdout",
     "output_type": "stream",
     "text": [
      "Name: RAM\n",
      "Yes. There is 2 ram.\n"
     ]
    }
   ],
   "source": [
    "a = \"Ram Shyam Ram Hari hari\"\n",
    "b = a.lower()\n",
    "name = input(\"Name: \").lower()\n",
    "if name in b:\n",
    "    c = b.count(name)\n",
    "    print(f\"Yes. There is {c} {name}.\")\n",
    "else:\n",
    "    print(\"No\")"
   ]
  },
  {
   "cell_type": "code",
   "execution_count": 15,
   "metadata": {},
   "outputs": [
    {
     "name": "stdout",
     "output_type": "stream",
     "text": [
      "Binod Shyam Binod Hari hari Shyam shyam hari Hari Hari\n"
     ]
    }
   ],
   "source": [
    "#replace     a.replace('<initial_value>','<final_value')\n",
    "\n",
    "#remove\n",
    "\n",
    "#String is immutable\n",
    "\n",
    "a = \"Ram Shyam Ram Hari hari Shyam shyam hari Hari Hari\"\n",
    "b = a.replace(\"Ram\",\"Binod\")\n",
    "print(b)"
   ]
  },
  {
   "cell_type": "code",
   "execution_count": 8,
   "metadata": {},
   "outputs": [
    {
     "name": "stdout",
     "output_type": "stream",
     "text": [
      "Ram Shyam Ram Hari hari Shyam shyam hari Hari Hari\n"
     ]
    }
   ],
   "source": [
    "print(a)"
   ]
  },
  {
   "cell_type": "code",
   "execution_count": 39,
   "metadata": {},
   "outputs": [
    {
     "name": "stdout",
     "output_type": "stream",
     "text": [
      "['Ram', 'Shyam', 'Ram', 'Hari', 'hari', 'Shyam', 'shyam', 'hari', 'Hari', 'Hari']\n"
     ]
    }
   ],
   "source": [
    "#Changing strings into array\n",
    "# Using split function\n",
    "\n",
    "\n",
    "a = \"Ram Shyam Ram Hari hari Shyam shyam hari Hari Hari\"\n",
    "b = a.split()\n",
    "print(b)"
   ]
  },
  {
   "cell_type": "code",
   "execution_count": 54,
   "metadata": {},
   "outputs": [
    {
     "name": "stdout",
     "output_type": "stream",
     "text": [
      "Enter number of students: 2\n",
      "Enter name: Ram\n",
      "Enter age: 2\n",
      "Enter address: w\n",
      "Enter name: Shyam\n",
      "Enter age: 3\n",
      "Enter address: q\n",
      "0 Ram-----2----w\n",
      "1 Shyam-----3----q\n",
      "\n"
     ]
    }
   ],
   "source": [
    "data = \"\"\n",
    "\n",
    "n = int(input(\"Enter number of students: \"))\n",
    "\n",
    "for i in range(n):\n",
    "    name = input(\"Enter name: \")\n",
    "    age = int(input(\"Enter age: \"))\n",
    "    address = input(\"Enter address: \")\n",
    "    \n",
    "    \n",
    "    info = f\"{i} {name}-----{age}----{address}\\n\"\n",
    "    \n",
    "    data = data + info\n",
    "    \n",
    "print(data)"
   ]
  },
  {
   "cell_type": "code",
   "execution_count": 4,
   "metadata": {},
   "outputs": [],
   "source": [
    "d = data.split('\\n')"
   ]
  },
  {
   "cell_type": "code",
   "execution_count": 5,
   "metadata": {},
   "outputs": [
    {
     "data": {
      "text/plain": [
       "'Hello I am ee. My age is 33 and I am from f.'"
      ]
     },
     "execution_count": 5,
     "metadata": {},
     "output_type": "execute_result"
    }
   ],
   "source": [
    "d[1]"
   ]
  },
  {
   "cell_type": "code",
   "execution_count": null,
   "metadata": {},
   "outputs": [],
   "source": []
  }
 ],
 "metadata": {
  "kernelspec": {
   "display_name": "Python 3",
   "language": "python",
   "name": "python3"
  },
  "language_info": {
   "codemirror_mode": {
    "name": "ipython",
    "version": 3
   },
   "file_extension": ".py",
   "mimetype": "text/x-python",
   "name": "python",
   "nbconvert_exporter": "python",
   "pygments_lexer": "ipython3",
   "version": "3.8.5"
  }
 },
 "nbformat": 4,
 "nbformat_minor": 4
}
