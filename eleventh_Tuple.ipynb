{
 "cells": [
  {
   "cell_type": "code",
   "execution_count": 1,
   "metadata": {},
   "outputs": [],
   "source": [
    "# Datatype - Tuple\n",
    "\n",
    "# - follow indexing\n",
    "# - carry duplicate members\n",
    "# - ordered\n",
    "# - imutable"
   ]
  },
  {
   "cell_type": "code",
   "execution_count": 3,
   "metadata": {},
   "outputs": [
    {
     "name": "stdout",
     "output_type": "stream",
     "text": [
      "() ()\n",
      "<class 'tuple'> <class 'tuple'>\n"
     ]
    }
   ],
   "source": [
    "a = ()        # can be defined as\n",
    "b = tuple()   # can be defined as\n",
    "print(a,b)\n",
    "print(type(a),type(b))"
   ]
  },
  {
   "cell_type": "code",
   "execution_count": 7,
   "metadata": {},
   "outputs": [
    {
     "name": "stdout",
     "output_type": "stream",
     "text": [
      "Dog\n"
     ]
    }
   ],
   "source": [
    "# Follows indexing\n",
    "\n",
    "a = (\"Apple\", \"Ball\", \"Cat\", \"Dog\")\n",
    "print(a[3])"
   ]
  },
  {
   "cell_type": "code",
   "execution_count": 10,
   "metadata": {},
   "outputs": [
    {
     "name": "stdout",
     "output_type": "stream",
     "text": [
      "('Apple', 'Ball', 'Cat', 'Dog', 'Apple')\n"
     ]
    }
   ],
   "source": [
    "# Can Carry duplicate values\n",
    "\n",
    "a = (\"Apple\", \"Ball\", \"Cat\", \"Dog\", \"Apple\", )\n",
    "print(a)"
   ]
  },
  {
   "cell_type": "code",
   "execution_count": 20,
   "metadata": {},
   "outputs": [
    {
     "name": "stdout",
     "output_type": "stream",
     "text": [
      "('Apple', 'Ball', 'Cat', 'Dog')\n",
      "('Cat', 'Dog', 'Apple', 'Ball')\n"
     ]
    }
   ],
   "source": [
    "# Ordered\n",
    "a = (\"Apple\",\"Ball\")\n",
    "b = (\"Cat\", \"Dog\")\n",
    "print(a+b)\n",
    "print(b+a)"
   ]
  },
  {
   "cell_type": "code",
   "execution_count": 15,
   "metadata": {},
   "outputs": [
    {
     "name": "stdout",
     "output_type": "stream",
     "text": [
      "<class 'str'>\n",
      "<class 'tuple'>\n"
     ]
    }
   ],
   "source": [
    "a = (\"Cat\")     #this is string\n",
    "print(type(a))\n",
    "\n",
    "b = (\"Cat\",)    #this is tuple\n",
    "print(type(b))"
   ]
  },
  {
   "cell_type": "code",
   "execution_count": 17,
   "metadata": {},
   "outputs": [
    {
     "data": {
      "text/plain": [
       "('C', 'a', 't')"
      ]
     },
     "execution_count": 17,
     "metadata": {},
     "output_type": "execute_result"
    }
   ],
   "source": [
    "b = tuple(\"Cat\")  #This is changing the string into tuple\n",
    "b"
   ]
  },
  {
   "cell_type": "code",
   "execution_count": 26,
   "metadata": {},
   "outputs": [
    {
     "name": "stdout",
     "output_type": "stream",
     "text": [
      "Enter n: 3\n",
      "ENter the value of x: 12\n",
      "ENter the value of x: 11\n",
      "ENter the value of x: 31\n",
      "(12, 11, 31)\n"
     ]
    }
   ],
   "source": [
    "# creating tuple using loop\n",
    "\n",
    "y = ()\n",
    "n = int(input(\"Enter n: \"))\n",
    "for i in range(n):\n",
    "    x = int(input(\"ENter the value of x: \"))\n",
    "    y = y + (x,)\n",
    "    \n",
    "print(y)"
   ]
  },
  {
   "cell_type": "code",
   "execution_count": 31,
   "metadata": {},
   "outputs": [
    {
     "name": "stdout",
     "output_type": "stream",
     "text": [
      "[32, 13, 44]\n",
      "(32, 13, 44)\n"
     ]
    }
   ],
   "source": [
    "#Converting tuple into list\n",
    "\n",
    "x = (32, 13, 44)\n",
    "\n",
    "y = list(x)   #Changing tuple into list \n",
    "\n",
    "x = tuple(y)  #Changing list into tuple\n",
    "\n",
    "print(y)\n",
    "print(x)"
   ]
  },
  {
   "cell_type": "code",
   "execution_count": 33,
   "metadata": {},
   "outputs": [
    {
     "name": "stdout",
     "output_type": "stream",
     "text": [
      "<class 'tuple'>\n"
     ]
    }
   ],
   "source": [
    "# multidimentional tuple\n",
    "\n",
    "a = ((),(),(),())\n",
    "print(type(a))"
   ]
  },
  {
   "cell_type": "code",
   "execution_count": 38,
   "metadata": {},
   "outputs": [
    {
     "name": "stdout",
     "output_type": "stream",
     "text": [
      "((1, 2, 3), (4, 2, 1), (3, 12, 22), (1, 22, 22))\n",
      "(1, 2, 3)\n"
     ]
    }
   ],
   "source": [
    "a = ((1,2,3),(4,2,1),(3,12,22),(1,22,22))\n",
    "\n",
    "print(a)\n",
    "\n",
    "print(a[0])"
   ]
  },
  {
   "cell_type": "code",
   "execution_count": 47,
   "metadata": {},
   "outputs": [
    {
     "name": "stdout",
     "output_type": "stream",
     "text": [
      "Enter r: 2\n",
      "Enter c: 3\n",
      "Enter x: 11\n",
      "Enter x: 22\n",
      "Enter x: 33\n",
      "Enter x: 44\n",
      "Enter x: 55\n",
      "Enter x: 66\n",
      "((11, 22, 33), (44, 55, 66))\n"
     ]
    }
   ],
   "source": [
    "# tuple inside tuple\n",
    "\n",
    "z = ()\n",
    "r = int(input(\"Enter r: \"))\n",
    "c = int(input(\"Enter c: \"))\n",
    "\n",
    "for i in range(r):\n",
    "    y=()\n",
    "    for j in range (c):\n",
    "        x = int(input(\"Enter x: \"))\n",
    "        y = y + (x,)\n",
    "    z = z + (y,)\n",
    "print(z)"
   ]
  },
  {
   "cell_type": "code",
   "execution_count": 46,
   "metadata": {},
   "outputs": [
    {
     "data": {
      "text/plain": [
       "([4], [], [])"
      ]
     },
     "execution_count": 46,
     "metadata": {},
     "output_type": "execute_result"
    }
   ],
   "source": [
    "# list inside tuple\n",
    "\n",
    "a = ([],[],[])\n",
    "type(a)\n",
    "a[0].append(4)\n",
    "a"
   ]
  },
  {
   "cell_type": "code",
   "execution_count": 44,
   "metadata": {},
   "outputs": [
    {
     "data": {
      "text/plain": [
       "list"
      ]
     },
     "execution_count": 44,
     "metadata": {},
     "output_type": "execute_result"
    }
   ],
   "source": [
    "a = [(),(),()]\n",
    "type(a)"
   ]
  },
  {
   "cell_type": "code",
   "execution_count": 50,
   "metadata": {},
   "outputs": [
    {
     "data": {
      "text/plain": [
       "([1, 2, 3], [2, 3, 1], [11, 22, 13])"
      ]
     },
     "execution_count": 50,
     "metadata": {},
     "output_type": "execute_result"
    }
   ],
   "source": [
    "#list inside tuple\n",
    "\n",
    "a = ([1,2,3],[2,3,1])\n",
    "b = a + ([11,22,13],)\n",
    "b"
   ]
  },
  {
   "cell_type": "code",
   "execution_count": 54,
   "metadata": {},
   "outputs": [
    {
     "name": "stdout",
     "output_type": "stream",
     "text": [
      "Enter r: 2\n",
      "Enter c: 2\n",
      "Enter x: 11\n",
      "Enter x: 22\n",
      "Enter x: 33\n",
      "Enter x: 11\n",
      "([11, 22], [33, 11])\n"
     ]
    }
   ],
   "source": [
    "#list inside tuple\n",
    "\n",
    "z = ()\n",
    "r = int(input(\"Enter r: \"))\n",
    "c = int(input(\"Enter c: \"))\n",
    "\n",
    "for i in range(r):\n",
    "    y=[]\n",
    "    for j in range (c):\n",
    "        x = int(input(\"Enter x: \"))\n",
    "        y = y + [x]\n",
    "    z = z + (y,)\n",
    "print(z)"
   ]
  },
  {
   "cell_type": "code",
   "execution_count": 55,
   "metadata": {},
   "outputs": [
    {
     "name": "stdout",
     "output_type": "stream",
     "text": [
      "Enter r: 2\n",
      "Enter c: 2\n",
      "Enter x: 11\n",
      "Enter x: 22\n",
      "Enter x: 33\n",
      "Enter x: 33\n",
      "([11, 22], [33, 33])\n"
     ]
    }
   ],
   "source": [
    "# list inside tuple\n",
    "\n",
    "z = ()    # tuple\n",
    "r = int(input(\"Enter r: \"))\n",
    "c = int(input(\"Enter c: \"))\n",
    "\n",
    "for i in range(r):\n",
    "    y=[]   # list\n",
    "    for j in range (c):\n",
    "        x = int(input(\"Enter x: \"))\n",
    "        y.append(x)   # appending value of x in list y\n",
    "    z = z + (y,)      # concatinating list y in th format tuple as (y, ) in typle z\n",
    "print(z)"
   ]
  },
  {
   "cell_type": "code",
   "execution_count": 57,
   "metadata": {},
   "outputs": [
    {
     "name": "stdout",
     "output_type": "stream",
     "text": [
      "Enter r: 2\n",
      "Enter c: 2\n",
      "Enter x: 11\n",
      "Enter x: 22\n",
      "Enter x: 33\n",
      "Enter x: 44\n",
      "[(11, 22), (33, 44)]\n"
     ]
    }
   ],
   "source": [
    "# tuple inside list\n",
    "\n",
    "z = []                         # list\n",
    "r = int(input(\"Enter r: \"))\n",
    "c = int(input(\"Enter c: \"))\n",
    "\n",
    "for i in range(r):\n",
    "    y=()                       # tuple\n",
    "    for j in range (c):\n",
    "        x = int(input(\"Enter x: \"))\n",
    "        y = y + (x,)      # concatinating tuples\n",
    "    z.append(y)           # appending tuple into list\n",
    "print(z)"
   ]
  },
  {
   "cell_type": "code",
   "execution_count": 63,
   "metadata": {},
   "outputs": [
    {
     "name": "stdout",
     "output_type": "stream",
     "text": [
      "<class 'tuple'>\n",
      "<class 'list'>\n"
     ]
    }
   ],
   "source": [
    "a  = ((),(),())\n",
    "type(a)\n",
    "print(type(a))\n",
    "\n",
    "b = list(a[0])    #use loop to convert every tuple which are inside tuple as below in next cell\n",
    "type(b)\n",
    "print(type(b))"
   ]
  },
  {
   "cell_type": "code",
   "execution_count": 64,
   "metadata": {},
   "outputs": [
    {
     "name": "stdout",
     "output_type": "stream",
     "text": [
      "[[1, 2, 3], [2, 3, 4], [4, 5, 6]]\n"
     ]
    }
   ],
   "source": [
    "# changing tuple inside tuple into list inside list\n",
    "\n",
    "b = []\n",
    "a = ((1,2,3),(2,3,4),(4,5,6))\n",
    "for i in a:\n",
    "    x = list(i)\n",
    "    b.append(x)\n",
    "print(b)"
   ]
  },
  {
   "cell_type": "code",
   "execution_count": null,
   "metadata": {},
   "outputs": [],
   "source": []
  }
 ],
 "metadata": {
  "kernelspec": {
   "display_name": "Python 3",
   "language": "python",
   "name": "python3"
  },
  "language_info": {
   "codemirror_mode": {
    "name": "ipython",
    "version": 3
   },
   "file_extension": ".py",
   "mimetype": "text/x-python",
   "name": "python",
   "nbconvert_exporter": "python",
   "pygments_lexer": "ipython3",
   "version": "3.8.5"
  }
 },
 "nbformat": 4,
 "nbformat_minor": 4
}
