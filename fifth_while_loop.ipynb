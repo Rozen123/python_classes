{
 "cells": [
  {
   "cell_type": "code",
   "execution_count": 3,
   "metadata": {},
   "outputs": [],
   "source": [
    "# while loop\n",
    "\n",
    "# while <condition>:\n",
    "#     <operations>"
   ]
  },
  {
   "cell_type": "code",
   "execution_count": 4,
   "metadata": {},
   "outputs": [
    {
     "name": "stdout",
     "output_type": "stream",
     "text": [
      "0 Hello world\n",
      "1 Hello world\n",
      "2 Hello world\n",
      "3 Hello world\n",
      "4 Hello world\n"
     ]
    }
   ],
   "source": [
    "a = 0\n",
    "while a<5:\n",
    "    print(a, \"Hello world\")\n",
    "    a = a+1"
   ]
  },
  {
   "cell_type": "code",
   "execution_count": 5,
   "metadata": {},
   "outputs": [
    {
     "name": "stdout",
     "output_type": "stream",
     "text": [
      "0 Hello world\n",
      "2 Hello world\n",
      "4 Hello world\n"
     ]
    }
   ],
   "source": [
    "a = 0\n",
    "while a<5:\n",
    "    print(a, \"Hello world\")\n",
    "    a = a+2"
   ]
  },
  {
   "cell_type": "code",
   "execution_count": 9,
   "metadata": {},
   "outputs": [
    {
     "name": "stdout",
     "output_type": "stream",
     "text": [
      "Enter n = 4\n",
      "4 * 1 = 4\n",
      "4 * 2 = 8\n",
      "4 * 3 = 12\n",
      "4 * 4 = 16\n",
      "4 * 5 = 20\n",
      "4 * 6 = 24\n",
      "4 * 7 = 28\n",
      "4 * 8 = 32\n",
      "4 * 9 = 36\n",
      "4 * 10 = 40\n"
     ]
    }
   ],
   "source": [
    "a = 1\n",
    "n = int(input(\"Enter n = \"))\n",
    "while a<=10:\n",
    "    print(n, \"*\", a, \"=\", n*a)\n",
    "    a = a+1"
   ]
  },
  {
   "cell_type": "code",
   "execution_count": 14,
   "metadata": {},
   "outputs": [
    {
     "name": "stdout",
     "output_type": "stream",
     "text": [
      "Enter the value of n = 2\n",
      "Enter x = 12\n",
      "12\n",
      "Enter x = 123\n",
      "135\n"
     ]
    }
   ],
   "source": [
    "s = 0\n",
    "a = 0\n",
    "n = int(input(\"Enter the value of n = \"))\n",
    "while a<n:\n",
    "    x = int(input(\"Enter x = \"))\n",
    "    s = s+x\n",
    "    a = a+1\n",
    "    print(s)"
   ]
  },
  {
   "cell_type": "code",
   "execution_count": 3,
   "metadata": {},
   "outputs": [
    {
     "name": "stdout",
     "output_type": "stream",
     "text": [
      "Enter the value of n = 2\n",
      "Enter x = Ram\n",
      "Enter x = Karki\n",
      " Ram Karki\n"
     ]
    }
   ],
   "source": [
    "s = \"\"\n",
    "a = 1\n",
    "n = int(input(\"Enter the value of n = \"))\n",
    "while a<=n:\n",
    "    x = input(\"Enter x = \")\n",
    "    s = s + \" \" + x\n",
    "    a = a+1\n",
    "print(s)"
   ]
  },
  {
   "cell_type": "code",
   "execution_count": 8,
   "metadata": {},
   "outputs": [
    {
     "name": "stdout",
     "output_type": "stream",
     "text": [
      "Enter the value of n = 2\n",
      "Enter name = d\n",
      "Enter number = 3\n",
      "Enter name = f\n",
      "Enter number = 2\n",
      "d 3\n",
      "f 2\n",
      "\n"
     ]
    }
   ],
   "source": [
    "s = \"\"\n",
    "a = 1\n",
    "n = int(input(\"Enter the value of n = \"))\n",
    "while a<=n:\n",
    "    name = input(\"Enter name = \")\n",
    "    phone = int(input(\"Enter number = \"))\n",
    "    info = name+ \" \" + str(phone)+\"\\n\"\n",
    "    s = s+info\n",
    "    a = a+1\n",
    "print(s)"
   ]
  },
  {
   "cell_type": "code",
   "execution_count": 3,
   "metadata": {},
   "outputs": [
    {
     "name": "stdout",
     "output_type": "stream",
     "text": [
      "Enter the value of n = 2\n",
      "Enter name: d\n",
      "Enter price: 2\n",
      "Enter quantity: 2\n",
      "Enter name: f\n",
      "Enter price: 1\n",
      "Enter quantity: 2\n",
      "The bill is \n",
      " d price 2 quantity 2 total 4\n",
      "f price 1 quantity 2 total 2\n",
      "\n",
      "All total is  6\n"
     ]
    }
   ],
   "source": [
    "#important\n",
    "#Calculation in the shop\n",
    "\n",
    "s = \"\"\n",
    "a = 0\n",
    "all_total = 0\n",
    "n = int(input(\"Enter the value of different items = \"))\n",
    "while a<n:\n",
    "    name = input(\"Enter name: \")\n",
    "    price = int(input(\"Enter price: \"))\n",
    "    quantity = int(input(\"Enter quantity: \"))\n",
    "    total = price*quantity\n",
    "    \n",
    "    info = name + \" price \" +str(price)+\" quantity \"+str(quantity)+\" total \"+str(total) +\"\\n\"\n",
    "    s = s+info\n",
    "    all_total = all_total+total\n",
    "    a = a+1\n",
    "print(\"The bill is \\n\",s)\n",
    "print(\"All total is \",all_total)\n",
    "\n"
   ]
  },
  {
   "cell_type": "code",
   "execution_count": 8,
   "metadata": {},
   "outputs": [
    {
     "name": "stdout",
     "output_type": "stream",
     "text": [
      "P\n",
      "y\n",
      "t\n",
      "h\n",
      "o\n",
      "n\n"
     ]
    }
   ],
   "source": [
    "a = \"Python\"\n",
    "n = len(a)\n",
    "b = 0\n",
    "while b<n:\n",
    "    print(a[b])\n",
    "    b = b+1"
   ]
  },
  {
   "cell_type": "code",
   "execution_count": 10,
   "metadata": {},
   "outputs": [
    {
     "name": "stdout",
     "output_type": "stream",
     "text": [
      "5\n",
      "4\n",
      "3\n",
      "2\n",
      "1\n"
     ]
    }
   ],
   "source": [
    "a = 0\n",
    "b = 5\n",
    "while b>a:\n",
    "    print(b)\n",
    "    b = b-1"
   ]
  },
  {
   "cell_type": "code",
   "execution_count": 2,
   "metadata": {},
   "outputs": [
    {
     "name": "stdout",
     "output_type": "stream",
     "text": [
      "nohtyP"
     ]
    }
   ],
   "source": [
    "a = \"Python\"\n",
    "n = len(a)-1\n",
    "b = 0\n",
    "while b<=n:\n",
    "    print(a[n], end = \"\")\n",
    "    n = n-1"
   ]
  },
  {
   "cell_type": "code",
   "execution_count": 3,
   "metadata": {},
   "outputs": [],
   "source": [
    "# Control statements\n",
    "# break\n",
    "# continue\n",
    "# pass"
   ]
  },
  {
   "cell_type": "code",
   "execution_count": 4,
   "metadata": {},
   "outputs": [
    {
     "name": "stdout",
     "output_type": "stream",
     "text": [
      "0\n",
      "1\n",
      "2\n",
      "3\n",
      "4\n"
     ]
    }
   ],
   "source": [
    "#Break\n",
    "for i in range(10):\n",
    "    if i==5:\n",
    "        break\n",
    "    else:\n",
    "        print(i)"
   ]
  },
  {
   "cell_type": "code",
   "execution_count": 5,
   "metadata": {},
   "outputs": [
    {
     "name": "stdout",
     "output_type": "stream",
     "text": [
      "0\n",
      "1\n",
      "2\n",
      "3\n",
      "4\n",
      "6\n",
      "7\n",
      "8\n",
      "9\n"
     ]
    }
   ],
   "source": [
    "#Continue\n",
    "for i in range(10):\n",
    "    if i==5:\n",
    "        continue\n",
    "    else:\n",
    "        print(i)"
   ]
  },
  {
   "cell_type": "code",
   "execution_count": 21,
   "metadata": {},
   "outputs": [
    {
     "name": "stdout",
     "output_type": "stream",
     "text": [
      "H\n",
      "e\n",
      "o\n",
      " \n",
      "W\n",
      "o\n",
      "r\n",
      "d\n"
     ]
    }
   ],
   "source": [
    "#Continue\n",
    "a = \"Hello World\"\n",
    "for i in a:\n",
    "    if i == \"l\":\n",
    "        continue\n",
    "    else:\n",
    "        print(i)"
   ]
  },
  {
   "cell_type": "code",
   "execution_count": 22,
   "metadata": {},
   "outputs": [
    {
     "name": "stdout",
     "output_type": "stream",
     "text": [
      "Heo Word"
     ]
    }
   ],
   "source": [
    "#Continue\n",
    "a = \"Hello World\"\n",
    "for i in a:\n",
    "    if i == \"l\":\n",
    "        continue\n",
    "    else:\n",
    "        print(i, end =\"\")"
   ]
  },
  {
   "cell_type": "code",
   "execution_count": 24,
   "metadata": {},
   "outputs": [
    {
     "name": "stdout",
     "output_type": "stream",
     "text": [
      "2\n",
      "4\n",
      "6\n",
      "8\n",
      "10\n",
      "12\n",
      "14\n",
      "16\n",
      "18\n",
      "20\n"
     ]
    }
   ],
   "source": [
    "#Continue\n",
    "for i in range(1,21):\n",
    "    if i%2 !=0:\n",
    "        continue\n",
    "    else:\n",
    "        print(i)"
   ]
  },
  {
   "cell_type": "code",
   "execution_count": 26,
   "metadata": {},
   "outputs": [
    {
     "name": "stdout",
     "output_type": "stream",
     "text": [
      "Ball\n",
      "Cat\n"
     ]
    }
   ],
   "source": [
    "#Continue\n",
    "a = [\"Apple\",\"Ball\",\"Cat\",\"Apple\",\"Apple\"]\n",
    "for i in a:\n",
    "    if i == \"Apple\":\n",
    "        continue\n",
    "    else:\n",
    "        print(i)"
   ]
  },
  {
   "cell_type": "code",
   "execution_count": 28,
   "metadata": {},
   "outputs": [],
   "source": [
    "#Pass\n",
    "for i in range(10):\n",
    "    if i==5:\n",
    "        pass"
   ]
  },
  {
   "cell_type": "code",
   "execution_count": 29,
   "metadata": {},
   "outputs": [],
   "source": [
    "#Pass\n",
    "a = 0\n",
    "while a<5:\n",
    "    pass\n",
    "    a=a+1"
   ]
  },
  {
   "cell_type": "code",
   "execution_count": null,
   "metadata": {},
   "outputs": [],
   "source": []
  }
 ],
 "metadata": {
  "kernelspec": {
   "display_name": "Python 3",
   "language": "python",
   "name": "python3"
  },
  "language_info": {
   "codemirror_mode": {
    "name": "ipython",
    "version": 3
   },
   "file_extension": ".py",
   "mimetype": "text/x-python",
   "name": "python",
   "nbconvert_exporter": "python",
   "pygments_lexer": "ipython3",
   "version": "3.8.5"
  }
 },
 "nbformat": 4,
 "nbformat_minor": 4
}
