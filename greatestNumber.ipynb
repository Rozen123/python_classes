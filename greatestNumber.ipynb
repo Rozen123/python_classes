{
 "cells": [
  {
   "cell_type": "code",
   "execution_count": 1,
   "metadata": {},
   "outputs": [
    {
     "name": "stdout",
     "output_type": "stream",
     "text": [
      "Find the greatest number?\n",
      "Enter the first number: 2\n",
      "Enter the second number: 4\n",
      "Enter the third number: 3\n",
      "4 is the greatest number.\n"
     ]
    }
   ],
   "source": [
    "print(\"Find the greatest number?\")\n",
    "\n",
    "first_number = int(input(\"Enter the first number: \"))\n",
    "second_number = int(input(\"Enter the second number: \"))\n",
    "third_number = int(input(\"Enter the third number: \"))\n",
    "\n",
    "if (first_number>second_number) and (first_number>third_number):\n",
    "    largest = first_number\n",
    "    \n",
    "elif (second_number>first_number) and (second_number>third_number):\n",
    "    largest = second_number\n",
    "\n",
    "else:largest = third_number\n",
    "    \n",
    "print(f'{largest} is the greatest number.')\n"
   ]
  },
  {
   "cell_type": "code",
   "execution_count": 7,
   "metadata": {},
   "outputs": [],
   "source": []
  },
  {
   "cell_type": "code",
   "execution_count": null,
   "metadata": {},
   "outputs": [],
   "source": []
  }
 ],
 "metadata": {
  "kernelspec": {
   "display_name": "Python 3",
   "language": "python",
   "name": "python3"
  },
  "language_info": {
   "codemirror_mode": {
    "name": "ipython",
    "version": 3
   },
   "file_extension": ".py",
   "mimetype": "text/x-python",
   "name": "python",
   "nbconvert_exporter": "python",
   "pygments_lexer": "ipython3",
   "version": "3.8.5"
  }
 },
 "nbformat": 4,
 "nbformat_minor": 4
}
