{
 "cells": [
  {
   "cell_type": "code",
   "execution_count": null,
   "metadata": {},
   "outputs": [],
   "source": [
    "# multi-level inheritance\n",
    "\n",
    "# multiple inheritance"
   ]
  },
  {
   "cell_type": "code",
   "execution_count": 3,
   "metadata": {},
   "outputs": [
    {
     "name": "stdout",
     "output_type": "stream",
     "text": [
      "Ram Nepal\n"
     ]
    }
   ],
   "source": [
    "#Inheritance - bottom to top approach\n",
    "\n",
    "class Info:\n",
    "    def __init__(self,name,add):\n",
    "        self.name = name\n",
    "        self.add = add\n",
    "        \n",
    "class Hr(Info):\n",
    "    def hr(self):\n",
    "        print(self.name,self.add)\n",
    "        \n",
    "obj = Hr(\"Ram\",\"Nepal\")\n",
    "obj.hr()"
   ]
  },
  {
   "cell_type": "code",
   "execution_count": 4,
   "metadata": {},
   "outputs": [
    {
     "name": "stdout",
     "output_type": "stream",
     "text": [
      "Enter name: Ram\n",
      "Enter address: Patan\n",
      "Ram Patan\n"
     ]
    }
   ],
   "source": [
    "#Inheritance - top to bottom approach\n",
    "\n",
    "class Info:\n",
    "    def __init__(self):\n",
    "        self.name = input(\"Enter name: \")\n",
    "        self.add = input(\"Enter address: \")\n",
    "        \n",
    "class Hr(Info):\n",
    "    def hr(self):\n",
    "        print(self.name,self.add)\n",
    "        \n",
    "obj = Hr()\n",
    "obj.hr()"
   ]
  },
  {
   "cell_type": "code",
   "execution_count": 10,
   "metadata": {},
   "outputs": [
    {
     "name": "stdout",
     "output_type": "stream",
     "text": [
      "This is class A\n",
      "This is class B\n",
      "This is class C\n"
     ]
    }
   ],
   "source": [
    "# multi-level inheritance\n",
    "\n",
    "class A:\n",
    "    print(\"This is class A\")\n",
    "\n",
    "class B(A):\n",
    "    print(\"This is class B\")\n",
    "    \n",
    "class C(B):\n",
    "    print(\"This is class C\")\n"
   ]
  },
  {
   "cell_type": "code",
   "execution_count": 13,
   "metadata": {},
   "outputs": [
    {
     "name": "stdout",
     "output_type": "stream",
     "text": [
      "Enter name: Ram\n",
      "Enter address: Nepal\n",
      "This is office class Ram\n"
     ]
    }
   ],
   "source": [
    "# multi-level inheritance\n",
    "\n",
    "class Info:\n",
    "    def __init__(self):\n",
    "        self.name = input(\"Enter name: \")\n",
    "        self.add = input(\"Enter address: \")\n",
    "        \n",
    "class Hr(Info):\n",
    "    def hr(self):\n",
    "        print(self.name,self.add)\n",
    "        \n",
    "class Office(Hr):\n",
    "    def office(self):\n",
    "        print(\"This is office class\",self.name)\n",
    "        \n",
    "        \n",
    "obj = Office()\n",
    "obj.office()"
   ]
  },
  {
   "cell_type": "code",
   "execution_count": 14,
   "metadata": {},
   "outputs": [
    {
     "name": "stdout",
     "output_type": "stream",
     "text": [
      "This is office class Ram\n"
     ]
    }
   ],
   "source": [
    "# multi-level inheritance\n",
    "\n",
    "class Info:\n",
    "    def __init__(self,name,add):\n",
    "        self.name = name\n",
    "        self.add = add\n",
    "        \n",
    "class Hr(Info):\n",
    "    def hr(self):\n",
    "        print(self.name,self.add)\n",
    "        \n",
    "class Office(Hr):\n",
    "    def office(self):\n",
    "        print(\"This is office class\",self.name)\n",
    "        \n",
    "        \n",
    "obj = Office(\"Ram\",\"Nepal\")\n",
    "obj.office()"
   ]
  },
  {
   "cell_type": "code",
   "execution_count": 30,
   "metadata": {},
   "outputs": [
    {
     "name": "stdout",
     "output_type": "stream",
     "text": [
      "1\n",
      "Ram Nepal\n"
     ]
    }
   ],
   "source": [
    "# multi-level inheritance\n",
    "\n",
    "class Info:\n",
    "    def __init__(self,add):\n",
    "        self.add = add\n",
    "\n",
    "        \n",
    "class Hr(Info):\n",
    "    def __init__(self,name,add):\n",
    "        self.name = name\n",
    "        Info.__init__(self,add)\n",
    "\n",
    "        \n",
    "    def hr(self):\n",
    "        print(self.name,self.add)\n",
    "        \n",
    "class Office(Hr):\n",
    "    def __init__(self,id,name,add):\n",
    "        self.id = id\n",
    "        Hr.__init__(self,name,add)\n",
    "    def office(self):\n",
    "        print(self.id)        \n",
    "        \n",
    "obj = Office(1,\"Ram\",\"Nepal\")\n",
    "obj.office()\n",
    "obj.hr()"
   ]
  },
  {
   "cell_type": "code",
   "execution_count": 32,
   "metadata": {},
   "outputs": [],
   "source": [
    "# multiple inheritance\n",
    "\n",
    "class A:\n",
    "    pass\n",
    "\n",
    "class B:\n",
    "    pass\n",
    "\n",
    "class C(A,B):\n",
    "    pass\n",
    "\n",
    "obj = C()\n"
   ]
  },
  {
   "cell_type": "code",
   "execution_count": 3,
   "metadata": {},
   "outputs": [
    {
     "name": "stdout",
     "output_type": "stream",
     "text": [
      "Ram Nepal\n",
      "Ram Nepal\n"
     ]
    }
   ],
   "source": [
    "# multiple inheritance\n",
    "\n",
    "class Info:\n",
    "    def __init__(self,add):\n",
    "        self.add = add\n",
    "       \n",
    "class Hr:\n",
    "    def __init__(self,name):\n",
    "        self.name = name\n",
    "\n",
    "        \n",
    "    def hr(self):\n",
    "        print(self.name,self.add)\n",
    "        \n",
    "class Office(Info,Hr):\n",
    "    def __init__(self,name,add):\n",
    "         Hr.__init__(self,name)\n",
    "         Info.__init__(self,add)\n",
    "        \n",
    "    def office(self):\n",
    "        print(self.name,self.add)\n",
    "        \n",
    "        \n",
    "obj = Office(\"Ram\",\"Nepal\")\n",
    "obj.office()\n",
    "obj.hr()"
   ]
  },
  {
   "cell_type": "code",
   "execution_count": 2,
   "metadata": {},
   "outputs": [
    {
     "name": "stdout",
     "output_type": "stream",
     "text": [
      "Name: Ram\n",
      "Address: Nepal\n",
      "Ram Nepal\n"
     ]
    }
   ],
   "source": [
    "# multiple inheritance\n",
    "\n",
    "class Info:\n",
    "    def __init__(self):\n",
    "        self.add = input(\"Address: \")\n",
    "       \n",
    "class Hr:\n",
    "    def __init__(self):\n",
    "        self.name = input(\"Name: \")\n",
    "        \n",
    "class Office(Info,Hr):\n",
    "    def __init__(self):\n",
    "         Hr.__init__(self)\n",
    "         Info.__init__(self)\n",
    "        \n",
    "    def office(self):\n",
    "        print(self.name,self.add)\n",
    "        \n",
    "        \n",
    "obj = Office()\n",
    "obj.office()"
   ]
  },
  {
   "cell_type": "code",
   "execution_count": null,
   "metadata": {},
   "outputs": [],
   "source": []
  }
 ],
 "metadata": {
  "kernelspec": {
   "display_name": "Python 3",
   "language": "python",
   "name": "python3"
  },
  "language_info": {
   "codemirror_mode": {
    "name": "ipython",
    "version": 3
   },
   "file_extension": ".py",
   "mimetype": "text/x-python",
   "name": "python",
   "nbconvert_exporter": "python",
   "pygments_lexer": "ipython3",
   "version": "3.8.5"
  }
 },
 "nbformat": 4,
 "nbformat_minor": 4
}
