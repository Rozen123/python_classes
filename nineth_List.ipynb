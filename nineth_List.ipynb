{
 "cells": [
  {
   "cell_type": "code",
   "execution_count": null,
   "metadata": {},
   "outputs": [],
   "source": [
    "#List     a = []\n",
    "\n",
    "#append()\n",
    "#- add element from last and only one element at a time\n",
    "\n",
    "#insert()\n"
   ]
  },
  {
   "cell_type": "code",
   "execution_count": null,
   "metadata": {},
   "outputs": [],
   "source": [
    "# Characteristics of List\n",
    "# -follows indexing\n",
    "# -can store duplicate members\n",
    "# -Stays in ordered form\n",
    "# -mutable"
   ]
  },
  {
   "cell_type": "code",
   "execution_count": 3,
   "metadata": {},
   "outputs": [
    {
     "name": "stdout",
     "output_type": "stream",
     "text": [
      "<class 'list'>\n",
      "[1, 2, 3, 4, 5]\n"
     ]
    }
   ],
   "source": [
    "a = []\n",
    "b = [1,2,3,4,5]\n",
    "print(type(a))\n",
    "print(b)"
   ]
  },
  {
   "cell_type": "code",
   "execution_count": 11,
   "metadata": {},
   "outputs": [
    {
     "name": "stdout",
     "output_type": "stream",
     "text": [
      "Apple\n"
     ]
    }
   ],
   "source": [
    "a = [\"Apple\", \"Ball\", \"Cat\", \"Dog\"]\n",
    "print(a[0])"
   ]
  },
  {
   "cell_type": "code",
   "execution_count": 12,
   "metadata": {},
   "outputs": [
    {
     "name": "stdout",
     "output_type": "stream",
     "text": [
      "Dog\n"
     ]
    }
   ],
   "source": [
    "a = [\"Apple\", \"Ball\", \"Cat\", \"Dog\"]\n",
    "print(a[-1])"
   ]
  },
  {
   "cell_type": "code",
   "execution_count": 13,
   "metadata": {},
   "outputs": [
    {
     "name": "stdout",
     "output_type": "stream",
     "text": [
      "['Apple', 'Ball', 'Cat']\n"
     ]
    }
   ],
   "source": [
    "a = [\"Apple\", \"Ball\", \"Cat\", \"Dog\"]\n",
    "print(a[0:3])"
   ]
  },
  {
   "cell_type": "code",
   "execution_count": 14,
   "metadata": {},
   "outputs": [
    {
     "name": "stdout",
     "output_type": "stream",
     "text": [
      "['Apple', 'Cat']\n"
     ]
    }
   ],
   "source": [
    "a = [\"Apple\", \"Ball\", \"Cat\", \"Dog\"]\n",
    "print(a[0:3:2])"
   ]
  },
  {
   "cell_type": "code",
   "execution_count": 15,
   "metadata": {},
   "outputs": [
    {
     "name": "stdout",
     "output_type": "stream",
     "text": [
      "['Apple', 'Ball', 'Cat', 'Dog', 'Apple']\n"
     ]
    }
   ],
   "source": [
    "a = [\"Apple\", \"Ball\", \"Cat\", \"Dog\",\"Apple\"]\n",
    "print(a)"
   ]
  },
  {
   "cell_type": "code",
   "execution_count": 16,
   "metadata": {},
   "outputs": [
    {
     "name": "stdout",
     "output_type": "stream",
     "text": [
      "['Apple', 'Ball', 'Cat']\n"
     ]
    }
   ],
   "source": [
    "a = [\"Apple\", \"Ball\"]\n",
    "b = [\"Cat\"]\n",
    "print(a+b)"
   ]
  },
  {
   "cell_type": "code",
   "execution_count": 18,
   "metadata": {},
   "outputs": [
    {
     "name": "stdout",
     "output_type": "stream",
     "text": [
      "[4, 'Apple', 'Ball']\n"
     ]
    }
   ],
   "source": [
    "a = [\"Apple\", \"Ball\"]\n",
    "b = [4]\n",
    "print(b+a)"
   ]
  },
  {
   "cell_type": "code",
   "execution_count": 19,
   "metadata": {},
   "outputs": [
    {
     "name": "stdout",
     "output_type": "stream",
     "text": [
      "['Apple', 'Ball', 'Apple', 'Ball']\n"
     ]
    }
   ],
   "source": [
    "a = [\"Apple\", \"Ball\"]\n",
    "print(a*2)"
   ]
  },
  {
   "cell_type": "code",
   "execution_count": 21,
   "metadata": {},
   "outputs": [
    {
     "name": "stdout",
     "output_type": "stream",
     "text": [
      "['Ant', 'Ball', 'Cat', 'Dog', 'Apple']\n"
     ]
    }
   ],
   "source": [
    "#Example of mutable\n",
    "\n",
    "a = [\"Apple\", \"Ball\", \"Cat\", \"Dog\", \"Apple\"]\n",
    "a[0] = \"Ant\"\n",
    "print(a)"
   ]
  },
  {
   "cell_type": "code",
   "execution_count": 25,
   "metadata": {},
   "outputs": [
    {
     "name": "stdout",
     "output_type": "stream",
     "text": [
      "Enter the value of n: 3\n",
      "Enter name: a\n",
      "Enter name: b\n",
      "Enter name: c\n",
      "['a', 'b', 'c']\n"
     ]
    }
   ],
   "source": [
    "#user defined list\n",
    "\n",
    "names = []\n",
    "\n",
    "n = int(input(\"Enter the value of n: \"))\n",
    "\n",
    "for i in range(n):\n",
    "    name = input(\"Enter name: \")\n",
    "    names = names+[name]\n",
    "    \n",
    "print(names)"
   ]
  },
  {
   "cell_type": "code",
   "execution_count": 27,
   "metadata": {},
   "outputs": [
    {
     "name": "stdout",
     "output_type": "stream",
     "text": [
      "Enter the value of n: 3\n",
      "Enter name: 1\n",
      "Enter name: 3\n",
      "Enter name: 2\n",
      "[1, 3, 2]\n"
     ]
    }
   ],
   "source": [
    "names = []\n",
    "\n",
    "n = int(input(\"Enter the value of n: \"))\n",
    "\n",
    "for i in range(n):\n",
    "    name = int(input(\"Enter name: \"))\n",
    "    names = names+[name]\n",
    "    \n",
    "print(names)"
   ]
  },
  {
   "cell_type": "code",
   "execution_count": 4,
   "metadata": {},
   "outputs": [
    {
     "name": "stdout",
     "output_type": "stream",
     "text": [
      "Enter the value of n: 3\n",
      "Enter number: 3\n",
      "Enter number: 2\n",
      "Enter number: 4\n",
      "The list is \n",
      " [3, 2, 4]\n",
      "The sum of the no is:  9\n",
      "The avg of the no is:  3.0\n",
      "The max no is:  4\n",
      "The min no is:  2\n",
      "List after sorting is:  [2, 3, 4]\n",
      "list after reversing sort:  [4, 3, 2]\n"
     ]
    }
   ],
   "source": [
    "y = []\n",
    "\n",
    "n = int(input(\"Enter the value of n: \"))\n",
    "\n",
    "for i in range(n):\n",
    "    x = int(input(\"Enter number: \"))\n",
    "    y = y +[x]\n",
    "    \n",
    "print(\"The list is \\n\",y)            #use of \\n\n",
    "\n",
    "print(\"The sum of the no is: \",sum(y))\n",
    "\n",
    "print(\"The avg of the no is: \",sum(y)/n )\n",
    "\n",
    "print(\"The max no is: \",max(y))\n",
    "\n",
    "print(\"The min no is: \",min(y))\n",
    "\n",
    "y.sort()  #ascending order\n",
    "print(\"List after sorting is: \",y)\n",
    "\n",
    "y.reverse()  #way to sort in descending order \n",
    "print(\"list after reversing sort: \",y)"
   ]
  },
  {
   "cell_type": "code",
   "execution_count": 19,
   "metadata": {},
   "outputs": [
    {
     "name": "stdout",
     "output_type": "stream",
     "text": [
      "Ant\n",
      "Ball\n",
      "Apple\n",
      "cat\n",
      "Dog\n",
      "Apple\n"
     ]
    }
   ],
   "source": [
    "a = [\"Ant\", \"Ball\", \"Apple\", \"cat\", \"Dog\", \"Apple\"]\n",
    "for i in a:\n",
    "    print(i)"
   ]
  },
  {
   "cell_type": "code",
   "execution_count": 22,
   "metadata": {},
   "outputs": [
    {
     "name": "stdout",
     "output_type": "stream",
     "text": [
      "2\n",
      "5\n"
     ]
    }
   ],
   "source": [
    "#To find the index of 'Apple'\n",
    "\n",
    "a = [\"Ant\", \"Ball\", \"Apple\", \"cat\", \"Dog\", \"Apple\"]\n",
    "for i in range(len(a)):\n",
    "    if \"Apple\" == a[i]:\n",
    "        print(i)"
   ]
  },
  {
   "cell_type": "code",
   "execution_count": 24,
   "metadata": {},
   "outputs": [
    {
     "name": "stdout",
     "output_type": "stream",
     "text": [
      "Enter value: Apple\n",
      "2\n",
      "5\n"
     ]
    }
   ],
   "source": [
    "#To find the index of input value\n",
    "\n",
    "a = [\"Ant\", \"Ball\", \"Apple\", \"cat\", \"Dog\", \"Apple\"]\n",
    "\n",
    "value = input(\"Enter value: \")\n",
    "for i in range(len(a)):\n",
    "    if value == a[i]:\n",
    "        print(i)"
   ]
  },
  {
   "cell_type": "code",
   "execution_count": 25,
   "metadata": {},
   "outputs": [
    {
     "name": "stdout",
     "output_type": "stream",
     "text": [
      "Enter value: apple\n",
      "2\n",
      "5\n"
     ]
    }
   ],
   "source": [
    "#To find the index of input value\n",
    "\n",
    "a = [\"Ant\", \"Ball\", \"Apple\", \"cat\", \"Dog\", \"Apple\"]\n",
    "\n",
    "value = input(\"Enter value: \").lower()\n",
    "for i in range(len(a)):\n",
    "    if value == a[i].lower():\n",
    "        print(i)"
   ]
  },
  {
   "cell_type": "code",
   "execution_count": 27,
   "metadata": {},
   "outputs": [
    {
     "name": "stdout",
     "output_type": "stream",
     "text": [
      "['ant', 'ball', 'apple', 'cat', 'dog', 'apple']\n"
     ]
    }
   ],
   "source": [
    "# It changes the original value\n",
    "# not the proper idea\n",
    "\n",
    "b = []\n",
    "a = [\"Ant\", \"Ball\", \"Apple\", \"cat\", \"Dog\", \"Apple\"]\n",
    "for i in a:\n",
    "    x = i.lower()\n",
    "    b = b+[x]\n",
    "print(b)"
   ]
  },
  {
   "cell_type": "code",
   "execution_count": 37,
   "metadata": {},
   "outputs": [
    {
     "name": "stdout",
     "output_type": "stream",
     "text": [
      "['Ball', 'Apple']\n"
     ]
    }
   ],
   "source": [
    "a = []\n",
    "\n",
    "a.append(\"Ball\")\n",
    "a.append(\"Apple\")\n",
    "print(a)"
   ]
  },
  {
   "cell_type": "code",
   "execution_count": 51,
   "metadata": {},
   "outputs": [
    {
     "name": "stdout",
     "output_type": "stream",
     "text": [
      "['Apple', 'Ball', 5, 10.5]\n"
     ]
    }
   ],
   "source": [
    "#use of append function\n",
    "\n",
    "a = []\n",
    "b = \"Apple\"\n",
    "a.append(b) # since append is the function of list hence 'a' must be a list\n",
    "a.append(\"Ball\")\n",
    "a.append(5)\n",
    "a.append(10.5)\n",
    "print(a)"
   ]
  },
  {
   "cell_type": "code",
   "execution_count": 52,
   "metadata": {},
   "outputs": [
    {
     "name": "stdout",
     "output_type": "stream",
     "text": [
      "['Cat', 'Apple', 'Ball', 5, 10.5]\n"
     ]
    }
   ],
   "source": [
    "#use of append function\n",
    "\n",
    "a = [\"Cat\"]\n",
    "b = \"Apple\"\n",
    "a.append(b)\n",
    "a.append(\"Ball\")\n",
    "a.append(5)\n",
    "a.append(10.5)\n",
    "print(a)"
   ]
  },
  {
   "cell_type": "code",
   "execution_count": null,
   "metadata": {},
   "outputs": [],
   "source": []
  },
  {
   "cell_type": "code",
   "execution_count": 53,
   "metadata": {},
   "outputs": [
    {
     "name": "stdout",
     "output_type": "stream",
     "text": [
      "['Apple']\n"
     ]
    }
   ],
   "source": [
    "#use of append function\n",
    "\n",
    "a = []\n",
    "b = \"Apple\"\n",
    "a.append(b) # since append is the function of list hence 'a' must be a list\n",
    "print(a)"
   ]
  },
  {
   "cell_type": "code",
   "execution_count": 54,
   "metadata": {},
   "outputs": [
    {
     "name": "stdout",
     "output_type": "stream",
     "text": [
      "['applle', 'Ball', 'ball', 'cat', 'dog']\n"
     ]
    }
   ],
   "source": [
    "# use of insert function\n",
    "\n",
    "a =[\"applle\", \"ball\", \"cat\", \"dog\"]\n",
    "a.insert(1,\"Ball\")\n",
    "print(a)"
   ]
  },
  {
   "cell_type": "code",
   "execution_count": 55,
   "metadata": {},
   "outputs": [
    {
     "name": "stdout",
     "output_type": "stream",
     "text": [
      "Enter value of n: 3\n",
      "Enter name = App\n",
      "Enter name = Ball\n",
      "Enter name = Cat\n",
      "['App', 'Ball', 'Cat']\n"
     ]
    }
   ],
   "source": [
    "#user defined list\n",
    "#use of append()\n",
    "\n",
    "names = []\n",
    "n = int(input(\"Enter value of n: \"))\n",
    "for i in range(n):\n",
    "    name = input(\"Enter name = \")\n",
    "    names.append(name)\n",
    "print(names)"
   ]
  },
  {
   "cell_type": "code",
   "execution_count": null,
   "metadata": {},
   "outputs": [],
   "source": []
  }
 ],
 "metadata": {
  "kernelspec": {
   "display_name": "Python 3",
   "language": "python",
   "name": "python3"
  },
  "language_info": {
   "codemirror_mode": {
    "name": "ipython",
    "version": 3
   },
   "file_extension": ".py",
   "mimetype": "text/x-python",
   "name": "python",
   "nbconvert_exporter": "python",
   "pygments_lexer": "ipython3",
   "version": "3.8.5"
  }
 },
 "nbformat": 4,
 "nbformat_minor": 4
}
