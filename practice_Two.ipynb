{
 "cells": [
  {
   "cell_type": "code",
   "execution_count": null,
   "metadata": {},
   "outputs": [],
   "source": [
    "x = 3\n",
    "x = \"print\"\n",
    "print(x)"
   ]
  },
  {
   "cell_type": "code",
   "execution_count": null,
   "metadata": {},
   "outputs": [],
   "source": [
    "a,b = 2,\"Ram\"\n",
    "print(a)\n",
    "print(b)\n",
    "print(a*b)"
   ]
  },
  {
   "cell_type": "code",
   "execution_count": null,
   "metadata": {},
   "outputs": [],
   "source": [
    "a = 2\n",
    "b = 3\n",
    "a+b"
   ]
  },
  {
   "cell_type": "code",
   "execution_count": null,
   "metadata": {},
   "outputs": [],
   "source": [
    "a = \"Hello World!\"\n",
    "print(a*4)"
   ]
  },
  {
   "cell_type": "code",
   "execution_count": null,
   "metadata": {},
   "outputs": [],
   "source": [
    "a = 1+2\n",
    "a"
   ]
  },
  {
   "cell_type": "code",
   "execution_count": null,
   "metadata": {},
   "outputs": [],
   "source": [
    "x = 4\n",
    "y = x+2\n",
    "x =2\n",
    "print (x,y)"
   ]
  },
  {
   "cell_type": "code",
   "execution_count": null,
   "metadata": {},
   "outputs": [],
   "source": [
    "x,y = 3,2\n",
    "x,y = y,x+2\n",
    "print(x,y)"
   ]
  },
  {
   "cell_type": "code",
   "execution_count": null,
   "metadata": {},
   "outputs": [],
   "source": [
    "def sum_of_squares(x,y):\n",
    "    a = (x**2) + (y**2)\n",
    "    return a\n",
    "\n",
    "def cal():\n",
    "    print(\"Hello\",a)\n",
    "x = int(input(\"Enter x: \"))\n",
    "y = int(input(\"Enter y: \"))\n",
    "sum_of_squares(x,y)\n",
    "cal()\n",
    "\n"
   ]
  },
  {
   "cell_type": "code",
   "execution_count": null,
   "metadata": {},
   "outputs": [],
   "source": [
    "products = {1:\"Apple\",2:\"Ball\",3:\"Chocolate\"}\n",
    "Total = 0\n",
    "n = int(input(\"Enter n: \"))\n",
    "\n",
    "for i in range (n):\n",
    "    product = input(\"Enter key: \")\n",
    "    price = int(input(\"Enter price: \"))\n",
    "    quantity = int(input(\"Enter quantity: \"))\n",
    "    if product == 1:\n",
    "        a = price*quantity\n",
    "        \n",
    "    elif product == 2:\n",
    "        b = price*quantity\n",
    "        \n",
    "    else:\n",
    "        c = price *quantity\n",
    "        \n",
    "    print(Total)\n",
    "        \n",
    "    \n",
    "\n"
   ]
  },
  {
   "cell_type": "code",
   "execution_count": null,
   "metadata": {},
   "outputs": [],
   "source": [
    "print(\"Enter a number: \")\n",
    "a = input()\n",
    "print(a)\n",
    "\n",
    "a = input(\"Enter number: \")\n",
    "print(a)"
   ]
  },
  {
   "cell_type": "code",
   "execution_count": null,
   "metadata": {},
   "outputs": [],
   "source": [
    "a = []\n",
    " \n",
    "n = int(input(\"Enter n: \"))\n",
    "for i in range(n):\n",
    "    name = input(\"Enter name: \")\n",
    "    address = input(\"Enter address: \")\n",
    "    data = f\"My name is {name} and I am from {address}.\"\n",
    "    info = a.append(data)\n",
    "print(a)"
   ]
  },
  {
   "cell_type": "code",
   "execution_count": 3,
   "metadata": {},
   "outputs": [
    {
     "name": "stdout",
     "output_type": "stream",
     "text": [
      "Guess: 3\n",
      "Try again!\n",
      "Guess: 2\n",
      "Woohoo! You win!\n"
     ]
    }
   ],
   "source": [
    "secret_number = 2\n",
    "guess_count = 0\n",
    "guess_limit = 3\n",
    "while guess_count < guess_limit:\n",
    "    guess = int(input(\"Guess: \"))\n",
    "    guess_count += 1\n",
    "    if guess == secret_number:\n",
    "        print(\"Woohoo! You win!\")\n",
    "        break\n",
    "    elif guess_count == guess_limit and guess != secret_number:\n",
    "        print(\"You lose!\")\n",
    "    else:\n",
    "        print(\"Try again!\")\n",
    "\n",
    "    "
   ]
  },
  {
   "cell_type": "code",
   "execution_count": 4,
   "metadata": {},
   "outputs": [
    {
     "name": "stdout",
     "output_type": "stream",
     "text": [
      "20000.0\n"
     ]
    }
   ],
   "source": [
    "#function with argument and no return type\n",
    "def interest(p,t,r):\n",
    "    i = p*t*r/100\n",
    "    print(i)\n",
    "interest(100000,2,10)"
   ]
  },
  {
   "cell_type": "code",
   "execution_count": 6,
   "metadata": {},
   "outputs": [
    {
     "name": "stdout",
     "output_type": "stream",
     "text": [
      "Enter principle: 10000\n",
      "Enter time: 1\n",
      "Enter rate: 2\n",
      "200.0\n"
     ]
    }
   ],
   "source": [
    "#function with argument and no return type\n",
    "\n",
    "def interest(p,t,r):\n",
    "    i = (p*t*r)/100\n",
    "    print(i)\n",
    "a = int(input(\"Enter principle: \"))\n",
    "b = int(input(\"Enter time: \"))\n",
    "c = int(input(\"Enter rate: \"))\n",
    "interest(a,b,c)"
   ]
  },
  {
   "cell_type": "code",
   "execution_count": null,
   "metadata": {},
   "outputs": [],
   "source": []
  }
 ],
 "metadata": {
  "kernelspec": {
   "display_name": "Python 3",
   "language": "python",
   "name": "python3"
  },
  "language_info": {
   "codemirror_mode": {
    "name": "ipython",
    "version": 3
   },
   "file_extension": ".py",
   "mimetype": "text/x-python",
   "name": "python",
   "nbconvert_exporter": "python",
   "pygments_lexer": "ipython3",
   "version": "3.8.5"
  }
 },
 "nbformat": 4,
 "nbformat_minor": 4
}
