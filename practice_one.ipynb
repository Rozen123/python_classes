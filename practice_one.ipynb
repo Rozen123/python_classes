{
 "cells": [
  {
   "cell_type": "code",
   "execution_count": 20,
   "metadata": {},
   "outputs": [
    {
     "name": "stdout",
     "output_type": "stream",
     "text": [
      "Enter the name: Anne\n",
      "Enter the age: 12\n",
      "I am Anne and my age is 12.\n"
     ]
    }
   ],
   "source": [
    "def person_details(name,age):\n",
    "    print(f\"I am {name} and my age is {age}.\")\n",
    "    \n",
    "name = input(\"Enter the name: \")\n",
    "age = int(input(\"Enter the age: \"))\n",
    "person_details(name,age)\n"
   ]
  },
  {
   "cell_type": "code",
   "execution_count": 6,
   "metadata": {},
   "outputs": [],
   "source": [
    "class human:\n",
    "    name = \"\"\n",
    "    age = 0\n",
    "    def get_name(self):\n",
    "        print(\"Enter name: \")\n",
    "        self.name = input()\n",
    "    \n",
    "    def get_age(self):\n",
    "        print(\"Enter age: \")\n",
    "        self.age = input()\n",
    "        \n",
    "    def set_name(self):\n",
    "        a = self.name\n",
    "        \n",
    "    def set_age(self):\n",
    "        b = self.age\n",
    "        print(f\"I am {self.name} and I am {self.age}.\")"
   ]
  },
  {
   "cell_type": "code",
   "execution_count": 7,
   "metadata": {},
   "outputs": [
    {
     "name": "stdout",
     "output_type": "stream",
     "text": [
      "Enter name: \n",
      "e\n",
      "Enter age: \n",
      "2\n",
      "I am e and I am 2.\n"
     ]
    }
   ],
   "source": [
    "person1 = human()\n",
    "\n",
    "person1.get_name()\n",
    "person1.get_age()\n",
    "person1.set_name()\n",
    "person1.set_age()\n"
   ]
  },
  {
   "cell_type": "code",
   "execution_count": 6,
   "metadata": {},
   "outputs": [
    {
     "name": "stdout",
     "output_type": "stream",
     "text": [
      "Enter name: \n",
      "Binod\n",
      "Address: \n",
      "Dang\n",
      "Contact: \n",
      "9809522850\n",
      "Hi I am Binod from Dang and my contact is 9809522850.\n"
     ]
    }
   ],
   "source": [
    "class customer:\n",
    "    name = \"\"\n",
    "    address = \"\"\n",
    "    contact = 0\n",
    "    \n",
    "    def get_name(self):\n",
    "        print(\"Enter name: \")\n",
    "        self.name =input()\n",
    "        \n",
    "    def get_address(self):\n",
    "        print(\"Address: \")\n",
    "        self.address = input()\n",
    "        \n",
    "    def get_contact(self):\n",
    "        print(\"Contact: \")\n",
    "        self.contact = input()\n",
    "        \n",
    "    def set_name(self):\n",
    "        self.name\n",
    "        \n",
    "    def set_address(self):\n",
    "        self.address\n",
    "        \n",
    "    def set_contact(self):\n",
    "        self.contact\n",
    "        print(f\"Hi I am {self.name} from {self.address} and my contact is {self.contact}.\")\n",
    "        \n",
    "person = customer()\n",
    "\n",
    "person.get_name()\n",
    "person.get_address()\n",
    "person.get_contact()\n",
    "\n",
    "person.set_name()\n",
    "person.set_address()\n",
    "person.set_contact()\n",
    "        "
   ]
  },
  {
   "cell_type": "code",
   "execution_count": 9,
   "metadata": {},
   "outputs": [
    {
     "name": "stdout",
     "output_type": "stream",
     "text": [
      "Name: d\n",
      "Age: 4\n",
      "Branch: f\n"
     ]
    }
   ],
   "source": [
    "class student:\n",
    "    def __init__(self,name,age,branch):\n",
    "        self.name = name\n",
    "        self.age = age\n",
    "        self.branch = branch\n",
    "        \n",
    "    def print_info(self):\n",
    "        self.name\n",
    "        self.age\n",
    "        self.branch\n",
    "\n",
    "a = input(\"Name: \")\n",
    "b = input(\"Age: \")\n",
    "c = input(\"Branch: \")\n",
    "\n",
    "person = student(a,b,c)\n",
    "person.print_info()"
   ]
  },
  {
   "cell_type": "code",
   "execution_count": 22,
   "metadata": {},
   "outputs": [
    {
     "name": "stdout",
     "output_type": "stream",
     "text": [
      "Physics mark: 2\n",
      "Maths mark: 3\n",
      "Health mark: 2\n",
      "physics:  2\n",
      "maths:  3\n",
      "health:  2\n"
     ]
    }
   ],
   "source": [
    "p = 0\n",
    "m = 0 \n",
    "h = 0\n",
    "\n",
    "def get_marks(p,m,h):\n",
    "    print(\"physics: \",p)\n",
    "    print(\"maths: \",m)\n",
    "    print(\"health: \",h)\n",
    "    \n",
    "p = int(input(\"Physics mark: \"))\n",
    "m = int(input(\"Maths mark: \"))\n",
    "h = int(input(\"Health mark: \"))\n",
    "get_marks(p,m,h)"
   ]
  },
  {
   "cell_type": "code",
   "execution_count": 2,
   "metadata": {},
   "outputs": [
    {
     "name": "stdout",
     "output_type": "stream",
     "text": [
      "Physics mark: \n",
      "12\n",
      "math mark: \n",
      "12\n",
      "health mark: \n",
      "22\n",
      "name: \n",
      "e\n",
      "address: \n",
      "e\n"
     ]
    },
    {
     "ename": "TypeError",
     "evalue": "totals() missing 2 required positional arguments: 'math' and 'health'",
     "output_type": "error",
     "traceback": [
      "\u001b[1;31m---------------------------------------------------------------------------\u001b[0m",
      "\u001b[1;31mTypeError\u001b[0m                                 Traceback (most recent call last)",
      "\u001b[1;32m<ipython-input-2-5e038000f4d9>\u001b[0m in \u001b[0;36m<module>\u001b[1;34m\u001b[0m\n\u001b[0;32m     68\u001b[0m \u001b[0mstudent1\u001b[0m\u001b[1;33m.\u001b[0m\u001b[0mget_name\u001b[0m\u001b[1;33m(\u001b[0m\u001b[1;33m)\u001b[0m\u001b[1;33m\u001b[0m\u001b[1;33m\u001b[0m\u001b[0m\n\u001b[0;32m     69\u001b[0m \u001b[0mstudent1\u001b[0m\u001b[1;33m.\u001b[0m\u001b[0mget_address\u001b[0m\u001b[1;33m(\u001b[0m\u001b[1;33m)\u001b[0m\u001b[1;33m\u001b[0m\u001b[1;33m\u001b[0m\u001b[0m\n\u001b[1;32m---> 70\u001b[1;33m \u001b[0mstudent1\u001b[0m\u001b[1;33m.\u001b[0m\u001b[0mget_marks\u001b[0m\u001b[1;33m(\u001b[0m\u001b[1;33m)\u001b[0m\u001b[1;33m\u001b[0m\u001b[1;33m\u001b[0m\u001b[0m\n\u001b[0m\u001b[0;32m     71\u001b[0m \u001b[0mstudent1\u001b[0m\u001b[1;33m.\u001b[0m\u001b[0mset_name\u001b[0m\u001b[1;33m(\u001b[0m\u001b[1;33m)\u001b[0m\u001b[1;33m\u001b[0m\u001b[1;33m\u001b[0m\u001b[0m\n\u001b[0;32m     72\u001b[0m \u001b[0mstudent1\u001b[0m\u001b[1;33m.\u001b[0m\u001b[0mset_address\u001b[0m\u001b[1;33m(\u001b[0m\u001b[1;33m)\u001b[0m\u001b[1;33m\u001b[0m\u001b[1;33m\u001b[0m\u001b[0m\n",
      "\u001b[1;32m<ipython-input-2-5e038000f4d9>\u001b[0m in \u001b[0;36mget_marks\u001b[1;34m(self)\u001b[0m\n\u001b[0;32m     50\u001b[0m \u001b[1;33m\u001b[0m\u001b[0m\n\u001b[0;32m     51\u001b[0m     \u001b[1;32mdef\u001b[0m \u001b[0mget_marks\u001b[0m\u001b[1;33m(\u001b[0m\u001b[0mself\u001b[0m\u001b[1;33m)\u001b[0m\u001b[1;33m:\u001b[0m\u001b[1;33m\u001b[0m\u001b[1;33m\u001b[0m\u001b[0m\n\u001b[1;32m---> 52\u001b[1;33m         \u001b[0mmak1\u001b[0m\u001b[1;33m.\u001b[0m\u001b[0mtotals\u001b[0m\u001b[1;33m(\u001b[0m\u001b[1;33m)\u001b[0m\u001b[1;33m\u001b[0m\u001b[1;33m\u001b[0m\u001b[0m\n\u001b[0m\u001b[0;32m     53\u001b[0m \u001b[1;33m\u001b[0m\u001b[0m\n\u001b[0;32m     54\u001b[0m \u001b[1;31m#         print(\"marks_total :\")\u001b[0m\u001b[1;33m\u001b[0m\u001b[1;33m\u001b[0m\u001b[1;33m\u001b[0m\u001b[0m\n",
      "\u001b[1;31mTypeError\u001b[0m: totals() missing 2 required positional arguments: 'math' and 'health'"
     ]
    }
   ],
   "source": [
    "class mak:\n",
    "    physics = 0\n",
    "    math = 0\n",
    "    health = 0\n",
    "\n",
    "    def get_physics(self):\n",
    "        print(\"Physics mark: \")\n",
    "        self.physics = input()\n",
    "\n",
    "    def get_math(self):\n",
    "        print(\"math mark: \")\n",
    "        self.math = input()\n",
    "\n",
    "    def get_health(self):\n",
    "        print(\"health mark: \")\n",
    "        self.health = input()\n",
    "\n",
    "    def set_physics(self):\n",
    "        self.physics\n",
    "\n",
    "    def set_math(self):\n",
    "        self.math\n",
    "\n",
    "    def set_health(self):\n",
    "        self.health\n",
    "\n",
    "    def totals(physics,math,health):\n",
    "        total = physics + math + health\n",
    "        return total\n",
    "        \n",
    "mak1 = mak()\n",
    "mak1.get_physics()\n",
    "mak1.get_math()\n",
    "mak1.get_health()\n",
    "mak1.set_physics()\n",
    "mak1.set_math()\n",
    "mak1.set_health()\n",
    "    \n",
    "class student:\n",
    "    name = \"\"\n",
    "    address = \"\"\n",
    "    \n",
    "    def get_name(self):\n",
    "        print(\"name: \")\n",
    "        self.name = input()\n",
    "    \n",
    "    def get_address(self):\n",
    "        print(\"address: \")\n",
    "        self.address = input()\n",
    "    \n",
    "    def get_marks():\n",
    "        mak1.totals(physics,math,)\n",
    "\n",
    "#         print(\"marks_total :\")\n",
    "#         self.marks = totals(physics,math,health)\n",
    "\n",
    "    def set_name(self):\n",
    "        self.name\n",
    "    \n",
    "    def set_address(self):\n",
    "        self.address\n",
    "        \n",
    "        print(f\"My name is {self.name} from {self.address} and my total marks is {marks}.\")\n",
    "    \n",
    "student1 = student()\n",
    "\n",
    "# totals(physics,math,health)\n",
    "student1.get_name()\n",
    "student1.get_address()\n",
    "student1.get_marks()\n",
    "student1.set_name()\n",
    "student1.set_address()"
   ]
  },
  {
   "cell_type": "code",
   "execution_count": 4,
   "metadata": {},
   "outputs": [],
   "source": [
    "import mysql.connector\n",
    "\n",
    "mydb = mysql.connector.connect(\n",
    "  host=\"localhost\",\n",
    "  user=\"root\",\n",
    "  password=\"\"\n",
    ")\n",
    "\n",
    "mycursor = mydb.cursor()\n"
   ]
  },
  {
   "cell_type": "code",
   "execution_count": 7,
   "metadata": {},
   "outputs": [],
   "source": [
    "mycursor.execute(\"CREATE DATABASE mydata\")"
   ]
  },
  {
   "cell_type": "code",
   "execution_count": 8,
   "metadata": {},
   "outputs": [],
   "source": [
    "mycursor.execute(\"SHOW DATABASES\")"
   ]
  },
  {
   "cell_type": "code",
   "execution_count": 9,
   "metadata": {},
   "outputs": [
    {
     "name": "stdout",
     "output_type": "stream",
     "text": [
      "('information_schema',)\n",
      "('mydata',)\n",
      "('mysql',)\n",
      "('performance_schema',)\n",
      "('phpmyadmin',)\n",
      "('smsschool',)\n"
     ]
    }
   ],
   "source": [
    "for x in mycursor:\n",
    "  print(x)"
   ]
  },
  {
   "cell_type": "code",
   "execution_count": 5,
   "metadata": {},
   "outputs": [
    {
     "name": "stdout",
     "output_type": "stream",
     "text": [
      "120 20\n"
     ]
    }
   ],
   "source": [
    "class Vehicle:\n",
    "    def __init__(self,max_speed,milage):\n",
    "        self.max_speed = max_speed\n",
    "        self.milage = milage\n",
    "    \n",
    "obj = Vehicle(120,20)\n",
    "\n",
    "print(obj.max_speed,obj.milage)\n",
    "    "
   ]
  },
  {
   "cell_type": "code",
   "execution_count": 12,
   "metadata": {},
   "outputs": [
    {
     "name": "stdout",
     "output_type": "stream",
     "text": [
      "Enter l = 1\n",
      "Enter b = 2\n",
      "Enter h = 2\n"
     ]
    },
    {
     "data": {
      "text/plain": [
       "(1, 4)"
      ]
     },
     "execution_count": 12,
     "metadata": {},
     "output_type": "execute_result"
    }
   ],
   "source": [
    "#function with argument and  return type\n",
    "\n",
    "def area(l,b,h):\n",
    "    sq = l*l\n",
    "    rec = l*b*h\n",
    "    return sq, rec\n",
    "l = int(input(\"Enter l = \"))\n",
    "b = int(input(\"Enter b = \"))\n",
    "h = int(input(\"Enter h = \"))\n",
    "a = area(l,b,h)\n",
    "a\n",
    "\n",
    "\n",
    "    \n",
    "    \n",
    "\n"
   ]
  },
  {
   "cell_type": "code",
   "execution_count": 2,
   "metadata": {},
   "outputs": [
    {
     "name": "stdout",
     "output_type": "stream",
     "text": [
      "Enter name: R\n",
      "Enter speed: 12\n",
      "Enter milage: 3\n",
      "Vehicle name:  R Vehicle speed:  12 Vehicle milage:  3\n"
     ]
    }
   ],
   "source": [
    "n = input(\"Enter name: \")\n",
    "s = int(input(\"Enter speed: \"))\n",
    "m = int(input(\"Enter milage: \"))\n",
    "\n",
    "class Vehicle:\n",
    "    def __init__(self,name,max_speed,milage):\n",
    "        self.n = name\n",
    "        self.s = max_speed\n",
    "        self.m = milage\n",
    "        \n",
    "class Bus(Vehicle):\n",
    "    pass\n",
    "    \n",
    "#     def info(self):\n",
    "#         print(\"Name: \",n)\n",
    "#         print(\"Speed: \",s)\n",
    "#         print(\"Milage: \",m)\n",
    "    \n",
    "obj = Bus(n,s,m)\n",
    "# obj.info()\n",
    "\n",
    "\n",
    "print(\"Vehicle name: \",obj.n, \"Vehicle speed: \",obj.s, \"Vehicle milage: \",obj.m)\n",
    "\n",
    "    \n",
    "    \n",
    "    "
   ]
  },
  {
   "cell_type": "code",
   "execution_count": 14,
   "metadata": {},
   "outputs": [
    {
     "name": "stdout",
     "output_type": "stream",
     "text": [
      "Enter name: R\n",
      "Enter speed: 120\n",
      "Enter milage: 20\n",
      "Enter capacity: 2\n"
     ]
    },
    {
     "data": {
      "text/plain": [
       "'The seating capacity of a R is 2 passengers'"
      ]
     },
     "execution_count": 14,
     "metadata": {},
     "output_type": "execute_result"
    }
   ],
   "source": [
    "n = input(\"Enter name: \")\n",
    "s = int(input(\"Enter speed: \"))\n",
    "m = int(input(\"Enter milage: \"))\n",
    "capacity = int(input(\"Enter capacity: \"))\n",
    "\n",
    "class Vehicle:\n",
    "    def __init__(self, name, max_speed, mileage):\n",
    "        self.name = name\n",
    "        self.max_speed = max_speed\n",
    "        self.mileage = mileage\n",
    "\n",
    "    def seating_capacity(self, capacity):\n",
    "        return f\"The seating capacity of a {self.name} is {capacity} passengers\"\n",
    "\n",
    "class Bus(Vehicle):\n",
    "    pass\n",
    "obj = Bus(n,s,m)\n",
    "obj.seating_capacity(capacity)"
   ]
  },
  {
   "cell_type": "code",
   "execution_count": null,
   "metadata": {},
   "outputs": [],
   "source": []
  }
 ],
 "metadata": {
  "kernelspec": {
   "display_name": "Python 3",
   "language": "python",
   "name": "python3"
  },
  "language_info": {
   "codemirror_mode": {
    "name": "ipython",
    "version": 3
   },
   "file_extension": ".py",
   "mimetype": "text/x-python",
   "name": "python",
   "nbconvert_exporter": "python",
   "pygments_lexer": "ipython3",
   "version": "3.8.5"
  }
 },
 "nbformat": 4,
 "nbformat_minor": 4
}
