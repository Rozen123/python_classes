{
 "cells": [
  {
   "cell_type": "code",
   "execution_count": 3,
   "metadata": {},
   "outputs": [
    {
     "name": "stdout",
     "output_type": "stream",
     "text": [
      "Enter a = 12\n",
      "12\n"
     ]
    }
   ],
   "source": [
    "a = int(input(\"Enter a = \"))\n",
    "print(a)"
   ]
  },
  {
   "cell_type": "code",
   "execution_count": 6,
   "metadata": {},
   "outputs": [
    {
     "name": "stdout",
     "output_type": "stream",
     "text": [
      "Hello world !\n",
      "Hello world !\n",
      "Hello world !\n",
      "\n"
     ]
    }
   ],
   "source": [
    "a = \"Hello world !\\n\"\n",
    "print(a*3)"
   ]
  },
  {
   "cell_type": "code",
   "execution_count": 1,
   "metadata": {},
   "outputs": [
    {
     "name": "stdout",
     "output_type": "stream",
     "text": [
      "Enter length = 12\n",
      "Enter breadth = 2\n",
      "24.0\n"
     ]
    }
   ],
   "source": [
    "length = float(input(\"Enter length = \"))\n",
    "breadth = float(input(\"Enter breadth = \"))\n",
    "Area = length*breadth\n",
    "print(Area)"
   ]
  },
  {
   "cell_type": "code",
   "execution_count": null,
   "metadata": {},
   "outputs": [],
   "source": [
    "r = float(input(\"Radius : \"))\n",
    "pi = 22/7\n",
    "Area = pi*(r**2)\n",
    "print(\"Area of circle = \",Area)"
   ]
  },
  {
   "cell_type": "code",
   "execution_count": 1,
   "metadata": {},
   "outputs": [
    {
     "name": "stdout",
     "output_type": "stream",
     "text": [
      "Enter number: 12\n",
      "Enter root: 2\n",
      "3.4641016151377544\n"
     ]
    }
   ],
   "source": [
    "#root\n",
    "a = float(input(\"Enter number: \"))\n",
    "r = float(input(\"Enter root: \"))\n",
    "b = float(a**(1/r))\n",
    "print(b)"
   ]
  },
  {
   "cell_type": "code",
   "execution_count": null,
   "metadata": {},
   "outputs": [],
   "source": []
  }
 ],
 "metadata": {
  "kernelspec": {
   "display_name": "Python 3",
   "language": "python",
   "name": "python3"
  },
  "language_info": {
   "codemirror_mode": {
    "name": "ipython",
    "version": 3
   },
   "file_extension": ".py",
   "mimetype": "text/x-python",
   "name": "python",
   "nbconvert_exporter": "python",
   "pygments_lexer": "ipython3",
   "version": "3.8.5"
  }
 },
 "nbformat": 4,
 "nbformat_minor": 4
}
