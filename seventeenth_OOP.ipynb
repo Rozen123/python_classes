{
 "cells": [
  {
   "cell_type": "code",
   "execution_count": 1,
   "metadata": {},
   "outputs": [],
   "source": [
    "# OOP\n"
   ]
  },
  {
   "cell_type": "code",
   "execution_count": 2,
   "metadata": {},
   "outputs": [
    {
     "name": "stdout",
     "output_type": "stream",
     "text": [
      "Hello world!\n"
     ]
    }
   ],
   "source": [
    "class Hello:                   # defining Class\n",
    "    print (\"Hello world!\")\n",
    "    \n",
    "obj = Hello()                 # defining object"
   ]
  },
  {
   "cell_type": "code",
   "execution_count": 3,
   "metadata": {},
   "outputs": [
    {
     "name": "stdout",
     "output_type": "stream",
     "text": [
      "Hello World !\n"
     ]
    }
   ],
   "source": [
    "class Hello:                     # Class\n",
    "    def hello(self):             # method    # self: it is the reference to the current instance of the class\n",
    "        a = print(\"Hello World !\")\n",
    "    \n",
    "obj = Hello()                    # object\n",
    "obj.hello()"
   ]
  },
  {
   "cell_type": "code",
   "execution_count": 16,
   "metadata": {},
   "outputs": [
    {
     "name": "stdout",
     "output_type": "stream",
     "text": [
      "Hello World\n"
     ]
    }
   ],
   "source": [
    "class Hello:                     # Class\n",
    "    def hello(self,x,y):             # method    # self: it is the reference to the current instance of the class\n",
    "        print(x,y)\n",
    "    \n",
    "obj = Hello()                    # object\n",
    "obj.hello(\"Hello\",\"World\")"
   ]
  },
  {
   "cell_type": "code",
   "execution_count": 17,
   "metadata": {},
   "outputs": [
    {
     "name": "stdout",
     "output_type": "stream",
     "text": [
      "l = 2\n",
      "b = 3\n",
      "h = 4\n",
      "6\n",
      "24\n"
     ]
    }
   ],
   "source": [
    "class Cal:\n",
    "    def area(self,l,b):\n",
    "        a = l*b\n",
    "        print(a)\n",
    "    def volume(self,l,b,h):\n",
    "        v = l*b*h\n",
    "        print(v)\n",
    "\n",
    "x = Cal()       \n",
    "l = int(input(\"l = \"))\n",
    "b = int(input(\"b = \"))\n",
    "h = int(input(\"h = \"))\n",
    "\n",
    "\n",
    "x.area(l,b)\n",
    "x.volume(l,b,h)"
   ]
  },
  {
   "cell_type": "code",
   "execution_count": 18,
   "metadata": {},
   "outputs": [
    {
     "name": "stdout",
     "output_type": "stream",
     "text": [
      "6\n",
      "48\n"
     ]
    }
   ],
   "source": [
    "class Cal:\n",
    "    def area(self,l,b):\n",
    "        a = l*b\n",
    "        print(a)\n",
    "    def volume(self,l,b,h):\n",
    "        v = l*b*h\n",
    "        print(v)\n",
    "\n",
    "x = Cal()       \n",
    "\n",
    "\n",
    "x.area(2,3)\n",
    "x.volume(4,2,6)"
   ]
  },
  {
   "cell_type": "code",
   "execution_count": 4,
   "metadata": {},
   "outputs": [
    {
     "name": "stdout",
     "output_type": "stream",
     "text": [
      "l = 4\n",
      "b = 3\n",
      "h = 2\n",
      "12\n",
      "24\n"
     ]
    }
   ],
   "source": [
    "class Cal:\n",
    "    def __init__(self,l,b,h):\n",
    "        self.length=l\n",
    "        self.breadth=b\n",
    "        self.height=h\n",
    "        \n",
    "    def area(self):\n",
    "        a = self.length*self.breadth\n",
    "        print(a)\n",
    "        \n",
    "    def volume(self):\n",
    "        v = self.length*self.breadth*self.height\n",
    "        print(v)\n",
    "\n",
    "      \n",
    "l = int(input(\"l = \"))\n",
    "b = int(input(\"b = \"))\n",
    "h = int(input(\"h = \"))\n",
    "\n",
    "x = Cal(l,b,h) \n",
    "\n",
    "x.area()\n",
    "x.volume()"
   ]
  },
  {
   "cell_type": "code",
   "execution_count": 14,
   "metadata": {},
   "outputs": [
    {
     "name": "stdout",
     "output_type": "stream",
     "text": [
      "l = 2\n",
      "b = 3\n",
      "h = 3\n",
      "6\n",
      "18\n"
     ]
    }
   ],
   "source": [
    "l = int(input(\"l = \"))\n",
    "b = int(input(\"b = \"))\n",
    "h = int(input(\"h = \"))\n",
    "\n",
    "class Cal:\n",
    "    def __init__(self,l,b):\n",
    "        self.length=l\n",
    "        self.breadth=b\n",
    "        \n",
    "    def area(self):\n",
    "        a = self.length*self.breadth\n",
    "        print(a)\n",
    "        \n",
    "    def volume(self,h):\n",
    "        v = self.length*self.breadth*h\n",
    "        print(v)\n",
    "\n",
    "x = Cal(l,b) \n",
    "\n",
    "x.area()\n",
    "x.volume(h)"
   ]
  },
  {
   "cell_type": "code",
   "execution_count": 8,
   "metadata": {},
   "outputs": [
    {
     "name": "stdout",
     "output_type": "stream",
     "text": [
      "l = 2\n",
      "b = 3\n",
      "h = 4\n",
      "6\n",
      "24\n",
      "3 4\n"
     ]
    }
   ],
   "source": [
    "class Cal:\n",
    "    def __init__(self):\n",
    "      \n",
    "        self.l = int(input(\"l = \"))\n",
    "        self.b = int(input(\"b = \"))\n",
    "        self.h = int(input(\"h = \"))\n",
    "        \n",
    "    def area(this):\n",
    "        a = this.l*this.b\n",
    "        return a\n",
    "        \n",
    "    def volume(self):\n",
    "        v = x.area()*self.h\n",
    "        return v\n",
    "\n",
    "\n",
    "\n",
    "x = Cal() \n",
    "\n",
    "print(x.area())\n",
    "print(x.volume())\n",
    "\n",
    "print(x.b,x.h)"
   ]
  },
  {
   "cell_type": "code",
   "execution_count": null,
   "metadata": {},
   "outputs": [],
   "source": []
  }
 ],
 "metadata": {
  "kernelspec": {
   "display_name": "Python 3",
   "language": "python",
   "name": "python3"
  },
  "language_info": {
   "codemirror_mode": {
    "name": "ipython",
    "version": 3
   },
   "file_extension": ".py",
   "mimetype": "text/x-python",
   "name": "python",
   "nbconvert_exporter": "python",
   "pygments_lexer": "ipython3",
   "version": "3.8.5"
  }
 },
 "nbformat": 4,
 "nbformat_minor": 4
}
