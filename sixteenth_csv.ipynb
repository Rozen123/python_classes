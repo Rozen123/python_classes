{
 "cells": [
  {
   "cell_type": "code",
   "execution_count": 1,
   "metadata": {},
   "outputs": [],
   "source": [
    "#writing the single data in csv file\n",
    "\n",
    "import csv\n",
    "fields = [\"Kamal\",\"28\",\"Baluwatar\"]\n",
    "with open(\"list.csv\", \"a\") as f:\n",
    "    x = csv.writer(f)\n",
    "    x.writerow(fields)"
   ]
  },
  {
   "cell_type": "code",
   "execution_count": 2,
   "metadata": {},
   "outputs": [],
   "source": [
    "#same as above code\n",
    "\n",
    "import csv\n",
    "fields = [\"Kamal\",\"28\",\"Baluwatar\"]\n",
    "f = open(\"list.csv\", \"a\")\n",
    "x = csv.writer(f)\n",
    "x.writerow(fields)\n",
    "f.close()"
   ]
  },
  {
   "cell_type": "code",
   "execution_count": 3,
   "metadata": {},
   "outputs": [
    {
     "name": "stdout",
     "output_type": "stream",
     "text": [
      "Enter n: 2\n",
      "Enter name: Ram\n",
      "Enter age: 22\n",
      "Enter address: Ktm\n",
      "Enter name: Hari\n",
      "Enter age: 44\n",
      "Enter address: Patan\n"
     ]
    }
   ],
   "source": [
    "# Exporting the output in csv file\n",
    "# writing the multiple data in csv file\n",
    "\n",
    "import csv\n",
    "output = []\n",
    "n = int(input(\"Enter n: \"))\n",
    "for i in range (n):\n",
    "    name = input(\"Enter name: \")\n",
    "    age = int(input(\"Enter age: \"))\n",
    "    add = input(\"Enter address: \")\n",
    "    info = [name,age,add]\n",
    "    output.append(info)\n",
    "    \n",
    "f = open(\"list.csv\",\"a\")\n",
    "x = csv.writer(f)\n",
    "for i in output:\n",
    "    x.writerow(i)\n",
    "f.close()"
   ]
  },
  {
   "cell_type": "code",
   "execution_count": 11,
   "metadata": {},
   "outputs": [
    {
     "name": "stdout",
     "output_type": "stream",
     "text": [
      "{'Name': '', 'Age': '', 'Address': ''}\n",
      "{'Name': 'Kamal', 'Age': '28', 'Address': 'Baluwatar'}\n",
      "{'Name': '', 'Age': '', 'Address': ''}\n",
      "{'Name': 'Ram', 'Age': '22', 'Address': 'Ktm'}\n",
      "{'Name': '', 'Age': '', 'Address': ''}\n",
      "{'Name': 'Hari', 'Age': '44', 'Address': 'Patan'}\n"
     ]
    }
   ],
   "source": [
    "# reading in dictionary\n",
    "# taking the \n",
    "import csv\n",
    "with open(\"list.csv\") as csvfile:\n",
    "    reader = csv.DictReader(csvfile)\n",
    "    for row in reader:\n",
    "         print(row)"
   ]
  },
  {
   "cell_type": "code",
   "execution_count": 33,
   "metadata": {},
   "outputs": [],
   "source": [
    "import csv\n",
    "csv_columns = [\"Name\", \"Age\", \"Address\"]\n",
    "dict = [\n",
    "    {\"Name\": \"Ayush\", \"Age\": 22, \"Address\": \"Ktm\"},\n",
    "    {\"Name\": \"Binod\", \"Age\": 24, \"Address\": \"Dang\"}\n",
    "]\n",
    "\n",
    "with open(\"data.csv\",\"w\") as csvfile:\n",
    "    writer = csv.DictWriter(csvfile, fieldnames=csv_columns)\n",
    "    writer.writeheader()\n",
    "    for data in dict:\n",
    "        writer.writerow(data)"
   ]
  },
  {
   "cell_type": "code",
   "execution_count": null,
   "metadata": {},
   "outputs": [],
   "source": []
  },
  {
   "cell_type": "code",
   "execution_count": null,
   "metadata": {},
   "outputs": [],
   "source": []
  }
 ],
 "metadata": {
  "kernelspec": {
   "display_name": "Python 3",
   "language": "python",
   "name": "python3"
  },
  "language_info": {
   "codemirror_mode": {
    "name": "ipython",
    "version": 3
   },
   "file_extension": ".py",
   "mimetype": "text/x-python",
   "name": "python",
   "nbconvert_exporter": "python",
   "pygments_lexer": "ipython3",
   "version": "3.8.5"
  }
 },
 "nbformat": 4,
 "nbformat_minor": 4
}
