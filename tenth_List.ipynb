{
 "cells": [
  {
   "cell_type": "code",
   "execution_count": 1,
   "metadata": {},
   "outputs": [],
   "source": [
    "#List 2nd class\n",
    "\n",
    "# remove , del, pop"
   ]
  },
  {
   "cell_type": "code",
   "execution_count": 2,
   "metadata": {},
   "outputs": [
    {
     "name": "stdout",
     "output_type": "stream",
     "text": [
      "['Ball', 'Cat', 'Dog', 'Fish']\n"
     ]
    }
   ],
   "source": [
    "#remove()\n",
    "\n",
    "a = [\"Apple\", \"Ball\", \"Cat\", \"Dog\", \"Fish\"]\n",
    "a.remove(\"Apple\")\n",
    "print(a)\n"
   ]
  },
  {
   "cell_type": "code",
   "execution_count": 3,
   "metadata": {},
   "outputs": [
    {
     "name": "stdout",
     "output_type": "stream",
     "text": [
      "['Ball', 'Cat', 'Dog', 'Fish', 'Apple']\n"
     ]
    }
   ],
   "source": [
    "#remove()\n",
    "\n",
    "a = [\"Apple\", \"Ball\", \"Cat\", \"Dog\", \"Fish\", \"Apple\"]\n",
    "a.remove(\"Apple\")\n",
    "print(a)\n"
   ]
  },
  {
   "cell_type": "code",
   "execution_count": 5,
   "metadata": {},
   "outputs": [
    {
     "name": "stdout",
     "output_type": "stream",
     "text": [
      "['Ball', 'Cat', 'Dog', 'Fish']\n"
     ]
    }
   ],
   "source": [
    "#remove()\n",
    "\n",
    "a = [\"Apple\", \"Ball\", \"Cat\", \"Dog\", \"Fish\", \"Apple\"]\n",
    "n = a.count(\"Apple\")\n",
    "for i in range(n):\n",
    "    a.remove(\"Apple\")\n",
    "    \n",
    "print(a)"
   ]
  },
  {
   "cell_type": "code",
   "execution_count": 9,
   "metadata": {},
   "outputs": [
    {
     "name": "stdout",
     "output_type": "stream",
     "text": [
      "['Ball', 'Cat', 'Dog', 'Fish']\n"
     ]
    }
   ],
   "source": [
    "#remove()\n",
    "\n",
    "a = [\"Apple\", \"Ball\", \"Cat\", \"Dog\", \"Fish\", \"Apple\"]\n",
    "for i in a:\n",
    "    if i == \"Apple\":\n",
    "        a.remove(i)\n",
    "    \n",
    "print(a)"
   ]
  },
  {
   "cell_type": "code",
   "execution_count": 10,
   "metadata": {},
   "outputs": [
    {
     "name": "stdout",
     "output_type": "stream",
     "text": [
      "['Ball', 'Cat', 'Dog', 'Fish', 'Apple']\n"
     ]
    }
   ],
   "source": [
    "#del\n",
    "\n",
    "a = [\"Apple\", \"Ball\", \"Cat\", \"Dog\", \"Fish\", \"Apple\"]\n",
    "del a[0]\n",
    "print(a)"
   ]
  },
  {
   "cell_type": "code",
   "execution_count": 11,
   "metadata": {},
   "outputs": [
    {
     "name": "stdout",
     "output_type": "stream",
     "text": [
      "['Dog', 'Fish', 'Apple']\n"
     ]
    }
   ],
   "source": [
    "#del\n",
    "\n",
    "a = [\"Apple\", \"Ball\", \"Cat\", \"Dog\", \"Fish\", \"Apple\"]\n",
    "del a[0:3]\n",
    "print(a)"
   ]
  },
  {
   "cell_type": "code",
   "execution_count": 15,
   "metadata": {},
   "outputs": [
    {
     "name": "stdout",
     "output_type": "stream",
     "text": [
      "['Apple', 'Ball', 'Cat', 'Dog', 'Fish']\n"
     ]
    }
   ],
   "source": [
    "#pop :always delete last element if the value is not given\n",
    "#    : can be used to move the value\n",
    "\n",
    "a = [\"Apple\", \"Ball\", \"Cat\", \"Dog\", \"Fish\", \"Apple\"]\n",
    "a.pop()\n",
    "print(a)"
   ]
  },
  {
   "cell_type": "code",
   "execution_count": 16,
   "metadata": {},
   "outputs": [
    {
     "name": "stdout",
     "output_type": "stream",
     "text": [
      "['Apple', 'Ball', 'Dog', 'Fish', 'Apple']\n"
     ]
    }
   ],
   "source": [
    "#pop\n",
    "\n",
    "a = [\"Apple\", \"Ball\", \"Cat\", \"Dog\", \"Fish\", \"Apple\"]\n",
    "a.pop(2)\n",
    "print(a)"
   ]
  },
  {
   "cell_type": "code",
   "execution_count": 17,
   "metadata": {},
   "outputs": [
    {
     "name": "stdout",
     "output_type": "stream",
     "text": [
      "['Apple', 'Ball', 'Dog', 'Fish', 'Apple']\n",
      "Cat\n"
     ]
    }
   ],
   "source": [
    "#pop\n",
    "\n",
    "a = [\"Apple\", \"Ball\", \"Cat\", \"Dog\", \"Fish\", \"Apple\"]\n",
    "b = a.pop(2)\n",
    "print(a)\n",
    "print(b)"
   ]
  },
  {
   "cell_type": "code",
   "execution_count": 19,
   "metadata": {},
   "outputs": [
    {
     "data": {
      "text/plain": [
       "[]"
      ]
     },
     "execution_count": 19,
     "metadata": {},
     "output_type": "execute_result"
    }
   ],
   "source": [
    "# clear\n",
    "\n",
    "a = [\"Apple\", \"Ball\", \"Cat\", \"Dog\", \"Fish\", \"Apple\"]\n",
    "a.clear()\n",
    "a"
   ]
  },
  {
   "cell_type": "code",
   "execution_count": 28,
   "metadata": {},
   "outputs": [
    {
     "data": {
      "text/plain": [
       "list"
      ]
     },
     "execution_count": 28,
     "metadata": {},
     "output_type": "execute_result"
    }
   ],
   "source": [
    "# List inside list\n",
    "# multi dimentional list\n",
    "a = [[],[],[]]\n",
    "type(a)\n"
   ]
  },
  {
   "cell_type": "code",
   "execution_count": 22,
   "metadata": {},
   "outputs": [
    {
     "name": "stdout",
     "output_type": "stream",
     "text": [
      "<class 'list'>\n",
      "3\n"
     ]
    }
   ],
   "source": [
    "a = [[],[],[]]\n",
    "print(type(a))\n",
    "print(len(a))"
   ]
  },
  {
   "cell_type": "code",
   "execution_count": 27,
   "metadata": {},
   "outputs": [
    {
     "name": "stdout",
     "output_type": "stream",
     "text": [
      "[[1, 2, 3], [4, 5, 6], [7, 8, 9]]\n"
     ]
    }
   ],
   "source": [
    "a = [[1,2,3],[4,5,6],[7,8,9]]\n",
    "print(a)\n"
   ]
  },
  {
   "cell_type": "code",
   "execution_count": 1,
   "metadata": {},
   "outputs": [
    {
     "name": "stdout",
     "output_type": "stream",
     "text": [
      "Enter n: 2\n",
      "Enter name: Ram\n",
      "Enter age: 12\n",
      "Enter address: Ktm\n",
      "Enter name: Shyam\n",
      "Enter age: 11\n",
      "Enter address: Bkt\n",
      "[['Ram', 12, 'Ktm'], ['Shyam', 11, 'Bkt']]\n"
     ]
    }
   ],
   "source": [
    "a = []\n",
    "n = int(input(\"Enter n: \"))\n",
    "for i in range(n):\n",
    "    name = input(\"Enter name: \")\n",
    "    age = int(input(\"Enter age: \"))\n",
    "    add = input(\"Enter address: \")\n",
    "    info = [name,age,add]\n",
    "    a.append(info) \n",
    "\n",
    "print(a)"
   ]
  },
  {
   "cell_type": "code",
   "execution_count": 4,
   "metadata": {},
   "outputs": [
    {
     "data": {
      "text/plain": [
       "[['Ram', 12, 'Ktm'], ['Shyam', 11, 'Ktm']]"
      ]
     },
     "execution_count": 4,
     "metadata": {},
     "output_type": "execute_result"
    }
   ],
   "source": [
    "a = [['Ram', 12, 'Ktm']]\n",
    "b = [['Shyam', 11, 'Ktm']]\n",
    "a+b"
   ]
  },
  {
   "cell_type": "code",
   "execution_count": 19,
   "metadata": {},
   "outputs": [
    {
     "name": "stdout",
     "output_type": "stream",
     "text": [
      "['Ram', 12, 'Ktm']\n",
      "Ram\n"
     ]
    },
    {
     "data": {
      "text/plain": [
       "[['Hari', 12, 'Ktm'], ['Shyam', 11, 'Ktm']]"
      ]
     },
     "execution_count": 19,
     "metadata": {},
     "output_type": "execute_result"
    }
   ],
   "source": [
    "a = [['Ram', 12, 'Ktm']]\n",
    "b = [['Shyam', 11, 'Ktm']]\n",
    "c = a+b\n",
    "print(c[0])\n",
    "print(c[0][0])\n",
    "\n",
    "c[0][0] = \"Hari\"\n",
    "c\n"
   ]
  },
  {
   "cell_type": "code",
   "execution_count": 20,
   "metadata": {},
   "outputs": [
    {
     "data": {
      "text/plain": [
       "[['Hari', 12, 'Ktm', 'Nepal'], ['Shyam', 11, 'Ktm']]"
      ]
     },
     "execution_count": 20,
     "metadata": {},
     "output_type": "execute_result"
    }
   ],
   "source": [
    "c[0].append(\"Nepal\")\n",
    "c"
   ]
  },
  {
   "cell_type": "code",
   "execution_count": 21,
   "metadata": {},
   "outputs": [
    {
     "data": {
      "text/plain": [
       "[['Binod', 'Hari', 12, 'Ktm', 'Nepal'], ['Shyam', 11, 'Ktm']]"
      ]
     },
     "execution_count": 21,
     "metadata": {},
     "output_type": "execute_result"
    }
   ],
   "source": [
    "c[0].insert(0,\"Binod\")\n",
    "c"
   ]
  },
  {
   "cell_type": "code",
   "execution_count": 24,
   "metadata": {},
   "outputs": [
    {
     "name": "stdout",
     "output_type": "stream",
     "text": [
      "Enter r: 2\n",
      "Enter c: 3\n",
      "Enter x: 1\n",
      "Enter x: 2\n",
      "Enter x: 3\n",
      "Enter x: 4\n",
      "Enter x: 4\n",
      "Enter x: 5\n",
      "[[1, 2, 3], [4, 4, 5]]\n"
     ]
    }
   ],
   "source": [
    "# matrix\n",
    "\n",
    "z = []\n",
    "r = int(input(\"Enter r: \"))\n",
    "c = int(input(\"Enter c: \"))\n",
    "\n",
    "for i in range(r):\n",
    "    y=[]\n",
    "    for j in range (c):\n",
    "        x = int(input(\"Enter x: \"))\n",
    "        y.append(x)\n",
    "    z.append(y)\n",
    "print(z)\n",
    "        "
   ]
  },
  {
   "cell_type": "code",
   "execution_count": 25,
   "metadata": {},
   "outputs": [
    {
     "name": "stdout",
     "output_type": "stream",
     "text": [
      "Enter n: 2\n",
      "Enter name: w\n",
      "Enter price: 2\n",
      "Enter quantity: 1\n",
      "Enter name: r\n",
      "Enter price: 3\n",
      "Enter quantity: 2\n",
      "[['w', 2, 1, 2], ['r', 3, 2, 6]]\n"
     ]
    }
   ],
   "source": [
    "\n",
    "\n",
    "output = []\n",
    "n = int(input(\"Enter n: \"))\n",
    "for i in range(n):\n",
    "    name = input(\"Enter name: \")\n",
    "    price = int(input(\"Enter price: \"))\n",
    "    quantity = int(input(\"Enter quantity: \"))\n",
    "    total = price*quantity\n",
    "    info = [name,price,quantity,total]\n",
    "    output.append(info) \n",
    "\n",
    "print(output)"
   ]
  },
  {
   "cell_type": "code",
   "execution_count": 32,
   "metadata": {},
   "outputs": [
    {
     "name": "stdout",
     "output_type": "stream",
     "text": [
      "Enter n: 2\n",
      "Enter name: ww\n",
      "Enter age: 22\n",
      "Enter add: ee\n",
      "Enter name: ee\n",
      "Enter age: 21\n",
      "Enter add: www\n",
      "ww----22----22\n",
      "ee----21----21\n",
      "\n"
     ]
    }
   ],
   "source": [
    "# Storing the string data in list\n",
    "# helps in file stored data \n",
    "# helps to extract data from file to perform operations in data\n",
    "\n",
    "\n",
    "data =\"\"\n",
    "n = int(input(\"Enter n: \"))\n",
    "for i in range (n):\n",
    "    name = input(\"Enter name: \")\n",
    "    age = input(\"Enter age: \")\n",
    "    add = input(\"Enter add: \")\n",
    "    info = f\"{name}----{age}----{age}\\n\"\n",
    "    data = data + info\n",
    "print(data)"
   ]
  },
  {
   "cell_type": "code",
   "execution_count": 33,
   "metadata": {},
   "outputs": [
    {
     "data": {
      "text/plain": [
       "['ww----22----22', 'ee----21----21']"
      ]
     },
     "execution_count": 33,
     "metadata": {},
     "output_type": "execute_result"
    }
   ],
   "source": [
    "x = data.split(\"\\n\")[0:-1]\n",
    "x"
   ]
  },
  {
   "cell_type": "code",
   "execution_count": 37,
   "metadata": {},
   "outputs": [
    {
     "data": {
      "text/plain": [
       "[['ww', '22', '22'], ['ee', '21', '21']]"
      ]
     },
     "execution_count": 37,
     "metadata": {},
     "output_type": "execute_result"
    }
   ],
   "source": [
    "splited_value = []\n",
    "for i in x:\n",
    "    output = i.split(\"----\")\n",
    "    splited_value.append(output)\n",
    "    \n",
    "splited_value"
   ]
  },
  {
   "cell_type": "code",
   "execution_count": null,
   "metadata": {},
   "outputs": [],
   "source": []
  }
 ],
 "metadata": {
  "kernelspec": {
   "display_name": "Python 3",
   "language": "python",
   "name": "python3"
  },
  "language_info": {
   "codemirror_mode": {
    "name": "ipython",
    "version": 3
   },
   "file_extension": ".py",
   "mimetype": "text/x-python",
   "name": "python",
   "nbconvert_exporter": "python",
   "pygments_lexer": "ipython3",
   "version": "3.8.5"
  }
 },
 "nbformat": 4,
 "nbformat_minor": 4
}
