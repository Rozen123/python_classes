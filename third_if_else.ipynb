{
 "cells": [
  {
   "cell_type": "code",
   "execution_count": null,
   "metadata": {},
   "outputs": [],
   "source": [
    "#Conditional Statement\n",
    "#if\n",
    "#elif\n",
    "#else\n",
    "\n",
    "# < > == <= >= !="
   ]
  },
  {
   "cell_type": "code",
   "execution_count": null,
   "metadata": {},
   "outputs": [],
   "source": [
    "# if <condition>:\n",
    "#     <operations>\n",
    "# elif<condition>:\n",
    "#     <operations>\n",
    "# else:\n",
    "#     <operations> \n",
    "\n",
    "\n",
    "\n",
    "\n",
    "# if <condition>:\n",
    "#     if <condition>:\n",
    "#         <operations>\n",
    "#     else:\n",
    "#         <operations>\n",
    "        "
   ]
  },
  {
   "cell_type": "code",
   "execution_count": null,
   "metadata": {},
   "outputs": [],
   "source": [
    "a = int(input(\"Enter the value of a: \"))\n",
    "b = int(input(\"Enter the value of b: \"))\n",
    "if a<b:\n",
    "    print(\"B is greater.\")\n",
    "elif a>b:\n",
    "    print(\"A is greater.\")\n",
    "else:\n",
    "    print(\"Both are equal.\")"
   ]
  },
  {
   "cell_type": "code",
   "execution_count": null,
   "metadata": {},
   "outputs": [],
   "source": [
    "# and or & /\n",
    "\n",
    "a = int(input(\"Enter the value of a: \"))\n",
    "b = int(input(\"Enter the value of b: \"))\n",
    "c = int(input(\"Enter the value of c: \"))\n",
    "if (a<b) and (c<b):\n",
    "    print(\"B is greater.\")\n",
    "elif (a<c) and (b<c):\n",
    "    print(\"C is greater.\")\n",
    "elif (a>b) and (a>c):\n",
    "    print(\"A is greater.\")\n",
    "else:\n",
    "    print(\"Both are equal.\")"
   ]
  },
  {
   "cell_type": "code",
   "execution_count": null,
   "metadata": {},
   "outputs": [],
   "source": [
    "first_number = int(input(\"Enter first number: \"))\n",
    "second_number = int(input(\"Enter second number: \"))\n",
    "operators = input(\"Enter + -  * /\")\n",
    "\n",
    "if operators=='+':\n",
    "    print(first_number + second_number)\n",
    "elif operators=='-':\n",
    "    print(first_number - second_number)\n",
    "elif operators=='*':\n",
    "    print(first_number * second_number)\n",
    "elif operators=='/':\n",
    "    print(first_number / second_number)\n",
    "else:\n",
    "    print(\"Invalid operators.\")"
   ]
  },
  {
   "cell_type": "code",
   "execution_count": 1,
   "metadata": {},
   "outputs": [
    {
     "name": "stdout",
     "output_type": "stream",
     "text": [
      "Enter first number: 12\n",
      "Enter second number: 2\n",
      "Enter + -  * //\n",
      "6.0\n"
     ]
    }
   ],
   "source": [
    "first_number = int(input(\"Enter first number: \"))\n",
    "second_number = int(input(\"Enter second number: \"))\n",
    "operators = input(\"Enter + -  * /\")\n",
    "\n",
    "if operators=='+':\n",
    "    print(first_number + second_number)\n",
    "elif operators=='-':\n",
    "    print(first_number - second_number)\n",
    "elif operators=='*':\n",
    "    print(first_number * second_number)\n",
    "elif operators=='/':\n",
    "    if second_number != 0:\n",
    "        print(first_number / second_number)\n",
    "    else:\n",
    "        print(\"The value of second number cannot be zero.\")\n",
    "else:\n",
    "    print(\"Invalid operators.\")"
   ]
  },
  {
   "cell_type": "code",
   "execution_count": null,
   "metadata": {},
   "outputs": [],
   "source": [
    "name = input(\"Enter name: \")\n",
    "physics = int(input(\"Enter physics marks: \"))\n",
    "chemistry = int(input(\"Enter chemistry marks: \"))\n",
    "maths = int(input(\"Enter maths marks: \"))\n",
    "total = physics + chemistry + maths\n",
    "print(total)\n",
    "per = total/3\n",
    "if per >= 80:\n",
    "    Grade = \"A\"\n",
    "elif per >= 60:\n",
    "    Grade = \"B\"\n",
    "elif per >= 40:\n",
    "    Grade = \"C\"\n",
    "else:\n",
    "    Grade = \"Fail\"\n",
    "    \n",
    "data = \"Hello \"+name+\", your total is \"+str(total)+\" and your grade is \"+Grade+\".\"\n",
    "print(data)\n"
   ]
  },
  {
   "cell_type": "code",
   "execution_count": null,
   "metadata": {},
   "outputs": [],
   "source": []
  }
 ],
 "metadata": {
  "kernelspec": {
   "display_name": "Python 3",
   "language": "python",
   "name": "python3"
  },
  "language_info": {
   "codemirror_mode": {
    "name": "ipython",
    "version": 3
   },
   "file_extension": ".py",
   "mimetype": "text/x-python",
   "name": "python",
   "nbconvert_exporter": "python",
   "pygments_lexer": "ipython3",
   "version": "3.8.5"
  }
 },
 "nbformat": 4,
 "nbformat_minor": 4
}
