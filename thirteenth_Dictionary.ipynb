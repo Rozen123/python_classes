{
 "cells": [
  {
   "cell_type": "code",
   "execution_count": 1,
   "metadata": {},
   "outputs": [],
   "source": [
    "# Dictionary-----mostly used during mapping\n",
    "\n",
    "# Properties:\n",
    "# - indexed\n",
    "# - ordered\n",
    "# - duplicate values\n",
    "# - mutable\n",
    "\n"
   ]
  },
  {
   "cell_type": "code",
   "execution_count": 3,
   "metadata": {},
   "outputs": [],
   "source": [
    "# a = {}\n",
    "# b = {<key>:<value>,<key>:<value>}\n"
   ]
  },
  {
   "cell_type": "code",
   "execution_count": 12,
   "metadata": {},
   "outputs": [
    {
     "name": "stdout",
     "output_type": "stream",
     "text": [
      "Apple\n",
      "Ball\n",
      "2\n"
     ]
    }
   ],
   "source": [
    "a = {\"A\":\"Apple\", \"B\":\"Ball\"}   # dictionary\n",
    "print(a[\"A\"])\n",
    "print(a[\"B\"])\n",
    "print(len(a))"
   ]
  },
  {
   "cell_type": "code",
   "execution_count": 13,
   "metadata": {},
   "outputs": [
    {
     "name": "stdout",
     "output_type": "stream",
     "text": [
      "{'A': 'Apple', 'B': 'Ball'}\n"
     ]
    }
   ],
   "source": [
    "a = {\"A\":\"Apple\", \"B\":\"Ball\"}\n",
    "print(a)"
   ]
  },
  {
   "cell_type": "code",
   "execution_count": 16,
   "metadata": {},
   "outputs": [
    {
     "name": "stdout",
     "output_type": "stream",
     "text": [
      "{'A': 'Apple', 'B': 'Ball', 'a': 'Apple'}\n"
     ]
    }
   ],
   "source": [
    "a = {\"A\":\"Apple\", \"B\":\"Ball\", \"a\":\"Apple\"}\n",
    "print(a)"
   ]
  },
  {
   "cell_type": "code",
   "execution_count": 17,
   "metadata": {},
   "outputs": [
    {
     "name": "stdout",
     "output_type": "stream",
     "text": [
      "{'A': 'Ant', 'B': 'Ball'}\n"
     ]
    }
   ],
   "source": [
    "a = {\"A\":\"Apple\", \"B\":\"Ball\", \"A\":\"Ant\"}\n",
    "print(a)"
   ]
  },
  {
   "cell_type": "code",
   "execution_count": 19,
   "metadata": {},
   "outputs": [
    {
     "name": "stdout",
     "output_type": "stream",
     "text": [
      "{'A': 'Apple', 'B': 'Ball'}\n"
     ]
    }
   ],
   "source": [
    "a = {}\n",
    "a[\"A\"] = \"Apple\"\n",
    "a[\"B\"] = \"Ball\"\n",
    "print(a)"
   ]
  },
  {
   "cell_type": "code",
   "execution_count": 22,
   "metadata": {},
   "outputs": [
    {
     "name": "stdout",
     "output_type": "stream",
     "text": [
      "{'Ram': 9675675745, 'Shyam': 7785654}\n"
     ]
    }
   ],
   "source": [
    "# pre-defined dictionary\n",
    "\n",
    "a = {}\n",
    "a[\"Ram\"] = 9675675745\n",
    "a[\"Shyam\"] = 7785654\n",
    "print(a)"
   ]
  },
  {
   "cell_type": "code",
   "execution_count": 23,
   "metadata": {},
   "outputs": [
    {
     "name": "stdout",
     "output_type": "stream",
     "text": [
      "Enter n = 2\n",
      "Enter name: R\n",
      "Enter contact: 2321\n",
      "Enter name: Yellow\n",
      "Enter contact: 7826536\n",
      "{'R': 2321, 'Yellow': 7826536}\n"
     ]
    }
   ],
   "source": [
    "# user-defined dictionary\n",
    "# use unique value as a key\n",
    "\n",
    "data = {}\n",
    "n = int(input(\"Enter n = \"))\n",
    "for i in range (n):\n",
    "    name = input(\"Enter name: \")\n",
    "    phone = int(input(\"Enter contact: \"))\n",
    "    data[name] = phone\n",
    "    \n",
    "print(data)"
   ]
  },
  {
   "cell_type": "code",
   "execution_count": 26,
   "metadata": {},
   "outputs": [
    {
     "name": "stdout",
     "output_type": "stream",
     "text": [
      "R\n",
      "Yellow\n"
     ]
    }
   ],
   "source": [
    "# prints the keys\n",
    "\n",
    "for i in data:\n",
    "    print(i)"
   ]
  },
  {
   "cell_type": "code",
   "execution_count": 27,
   "metadata": {},
   "outputs": [
    {
     "name": "stdout",
     "output_type": "stream",
     "text": [
      "2321\n",
      "7826536\n"
     ]
    }
   ],
   "source": [
    "# prints the values\n",
    "\n",
    "for i in data.values():\n",
    "    print(i)"
   ]
  },
  {
   "cell_type": "code",
   "execution_count": 34,
   "metadata": {},
   "outputs": [
    {
     "name": "stdout",
     "output_type": "stream",
     "text": [
      "('R', 2321)\n",
      "('Yellow', 7826536)\n"
     ]
    }
   ],
   "source": [
    "# prints both items and data\n",
    "\n",
    "for i in data.items():\n",
    "    print(i)"
   ]
  },
  {
   "cell_type": "code",
   "execution_count": 36,
   "metadata": {},
   "outputs": [
    {
     "name": "stdout",
     "output_type": "stream",
     "text": [
      "Enter phone: 7826536\n",
      "('Yellow', 7826536)\n"
     ]
    }
   ],
   "source": [
    "# finding the data using phone number\n",
    "\n",
    "phone = int(input(\"Enter phone: \"))\n",
    "\n",
    "for i in data.items():\n",
    "    if phone in i:\n",
    "        print(i)"
   ]
  },
  {
   "cell_type": "code",
   "execution_count": 37,
   "metadata": {},
   "outputs": [
    {
     "name": "stdout",
     "output_type": "stream",
     "text": [
      "Enter phone: 7826536\n",
      "Yellow\n"
     ]
    }
   ],
   "source": [
    "# finding only name data using phone number\n",
    "\n",
    "phone = int(input(\"Enter phone: \"))\n",
    "\n",
    "for i in data.items():\n",
    "    if phone in i:\n",
    "        print(i[0])"
   ]
  },
  {
   "cell_type": "code",
   "execution_count": 38,
   "metadata": {},
   "outputs": [
    {
     "name": "stdout",
     "output_type": "stream",
     "text": [
      "{'Yellow': 7826536}\n"
     ]
    }
   ],
   "source": [
    "# deleting the data \n",
    "\n",
    "del data[\"R\"]\n",
    "print(data)"
   ]
  },
  {
   "cell_type": "code",
   "execution_count": 43,
   "metadata": {},
   "outputs": [
    {
     "data": {
      "text/plain": [
       "{'Yellow': 7826536}"
      ]
     },
     "execution_count": 43,
     "metadata": {},
     "output_type": "execute_result"
    }
   ],
   "source": [
    "# pop\n",
    "\n",
    "data = {'R': 2321, 'Yellow': 7826536}\n",
    "data.pop('R')\n",
    "data\n"
   ]
  },
  {
   "cell_type": "code",
   "execution_count": 50,
   "metadata": {},
   "outputs": [
    {
     "name": "stdout",
     "output_type": "stream",
     "text": [
      "Enter phone: 2321\n",
      "['R']\n",
      "{'Ram': 2211, 'Shyam': 4433, 'Yellow': 7826536}\n"
     ]
    }
   ],
   "source": [
    "\n",
    "index = []\n",
    "data = {'Ram': 2211, 'Shyam': 4433, 'R': 2321, 'Yellow': 7826536}\n",
    "\n",
    "phone = int(input(\"Enter phone: \"))\n",
    "\n",
    "for i in data.items():\n",
    "    if phone in i:\n",
    "        index.append(i[0])\n",
    "print(index)\n",
    "key = index[0]\n",
    "del data[key]\n",
    "print(data)"
   ]
  },
  {
   "cell_type": "code",
   "execution_count": 51,
   "metadata": {},
   "outputs": [
    {
     "name": "stdout",
     "output_type": "stream",
     "text": [
      "(('Ram', 'Shyam'), 1122)\n"
     ]
    }
   ],
   "source": [
    "a = {(\"Ram\",\"Shyam\"):1122}\n",
    "for i in a.items():\n",
    "    print(i)"
   ]
  },
  {
   "cell_type": "code",
   "execution_count": 52,
   "metadata": {},
   "outputs": [
    {
     "data": {
      "text/plain": [
       "1122"
      ]
     },
     "execution_count": 52,
     "metadata": {},
     "output_type": "execute_result"
    }
   ],
   "source": [
    "key = (\"Ram\", \"Shyam\")\n",
    "a[key]"
   ]
  },
  {
   "cell_type": "code",
   "execution_count": 53,
   "metadata": {},
   "outputs": [],
   "source": [
    "# list inside dictionary\n",
    "# tuple inside dictionary\n",
    "# dict inside dictionary"
   ]
  },
  {
   "cell_type": "code",
   "execution_count": 54,
   "metadata": {},
   "outputs": [
    {
     "name": "stdout",
     "output_type": "stream",
     "text": [
      "{'A': ['Apple', 'Ant'], 'B': ['Ball', 'Cat']}\n"
     ]
    }
   ],
   "source": [
    "#list inside dictionary\n",
    "\n",
    "a = {\"A\":[\"Apple\",\"Ant\"],\"B\":[\"Ball\",\"Cat\"]}\n",
    "print(a)"
   ]
  },
  {
   "cell_type": "code",
   "execution_count": 55,
   "metadata": {},
   "outputs": [
    {
     "name": "stdout",
     "output_type": "stream",
     "text": [
      "('A', ['Apple', 'Ant'])\n",
      "('B', ['Ball', 'Cat'])\n"
     ]
    }
   ],
   "source": [
    "for i in a.items():\n",
    "    print(i)"
   ]
  },
  {
   "cell_type": "code",
   "execution_count": 56,
   "metadata": {},
   "outputs": [
    {
     "name": "stdout",
     "output_type": "stream",
     "text": [
      "{'A': ['Apple', 'Ant'], 'B': ['Ball', 'Cat'], 'C': ['Cat', 'Can']}\n"
     ]
    }
   ],
   "source": [
    "a = {\"A\":[\"Apple\",\"Ant\"],\"B\":[\"Ball\",\"Cat\"]}\n",
    "a[\"C\"] = [\"Cat\",\"Can\"]\n",
    "print(a)"
   ]
  },
  {
   "cell_type": "code",
   "execution_count": 61,
   "metadata": {},
   "outputs": [
    {
     "name": "stdout",
     "output_type": "stream",
     "text": [
      "Enter n: 2\n",
      "Enter name: Ram\n",
      "Enter contact ntc: 11\n",
      "Enter contact ntc: 22\n",
      "Enter name: Shyam\n",
      "Enter contact ntc: 44\n",
      "Enter contact ntc: 33\n",
      "{'Ram': [11, 22], 'Shyam': [44, 33]}\n"
     ]
    }
   ],
   "source": [
    "data = {}\n",
    "n = int(input(\"Enter n: \"))\n",
    "\n",
    "for i in range(n):\n",
    "    name = input(\"Enter name: \")\n",
    "    ntc = int(input(\"Enter contact ntc: \"))\n",
    "    ncell = int(input(\"Enter contact ntc: \"))\n",
    "    \n",
    "    data[name] = [ntc,ncell]\n",
    "print(data)\n",
    "        \n"
   ]
  },
  {
   "cell_type": "code",
   "execution_count": 63,
   "metadata": {},
   "outputs": [
    {
     "name": "stdout",
     "output_type": "stream",
     "text": [
      "{'Ram': [11, 55], 'Shyam': [44, 33]}\n"
     ]
    }
   ],
   "source": [
    "a = {'Ram': [11, 22], 'Shyam': [44, 33]}\n",
    "a['Ram'][1] = 55\n",
    "print(a)"
   ]
  },
  {
   "cell_type": "code",
   "execution_count": 75,
   "metadata": {},
   "outputs": [
    {
     "name": "stdout",
     "output_type": "stream",
     "text": [
      "Enter phone: 33\n",
      "('Shyam', [44, 33])\n"
     ]
    }
   ],
   "source": [
    "data = {'Ram': [11,22], 'Shyam': [44,33]}\n",
    "phone = int(input(\"Enter phone: \"))\n",
    "for i in data.items():\n",
    "    if phone in i[1]:\n",
    "        print(i)"
   ]
  },
  {
   "cell_type": "code",
   "execution_count": null,
   "metadata": {},
   "outputs": [],
   "source": []
  }
 ],
 "metadata": {
  "kernelspec": {
   "display_name": "Python 3",
   "language": "python",
   "name": "python3"
  },
  "language_info": {
   "codemirror_mode": {
    "name": "ipython",
    "version": 3
   },
   "file_extension": ".py",
   "mimetype": "text/x-python",
   "name": "python",
   "nbconvert_exporter": "python",
   "pygments_lexer": "ipython3",
   "version": "3.8.5"
  }
 },
 "nbformat": 4,
 "nbformat_minor": 4
}
